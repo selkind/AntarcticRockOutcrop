{
 "cells": [
  {
   "cell_type": "code",
   "execution_count": 1,
   "metadata": {},
   "outputs": [],
   "source": [
    "# !pip install requests\n",
    "# !pip install usgs\n",
    "# !pip install geocoder\n",
    "# !sudo apt install libcurl4-openssl-dev libssl-dev\n",
    "# !pip install homura\n",
    "# !pip install termcolor\n",
    "# !pip install -r requirements.txt\n",
    "%matplotlib inline\n",
    "import matplotlib.pyplot as plt\n",
    "import numpy as np"
   ]
  },
  {
   "cell_type": "code",
   "execution_count": 2,
   "metadata": {
    "scrolled": true
   },
   "outputs": [
    {
     "name": "stdout",
     "output_type": "stream",
     "text": [
      "2019-11-02 22:50:56,392 - scene_downloader_log\n",
      "INFO\n",
      "Scene ID file already extracted at /home/divyanshu_g25/AntarcticRockOutcrop/data/burton_johnson_scene_ids.txt\n",
      "\n",
      "2019-11-02 22:50:56,392 - scene_downloader_log\n",
      "INFO\n",
      "Outcrop shapefile already extracted at /home/divyanshu_g25/AntarcticRockOutcrop/data/outcrops/Landsat_8_Derived_Outcrop_Dataset_2016.shp\n",
      "\n",
      "Downloaded SceneIDs: \n",
      "['LC82201072015017LGN00', 'LC82071142014003LGN00', 'LC82081122013343LGN00', 'LC82081132013343LGN00', 'LC82081142013343LGN00', 'LC82121112013339LGN00', 'LC82121122013339LGN00', 'LC82121132014038LGN00', 'LC82121142014038LGN00', 'LC82131092013314LGN00', 'LC82131102013314LGN00', 'LC82131132013362LGN00', 'LC82141042015087LGN00', 'LC82141102014052LGN00', 'LC82141112014052LGN00', 'LC82151032013360LGN00', 'LC82151042013344LGN00', 'LC82151052013344LGN00', 'LC82151072014011LGN00', 'LC82151112014043LGN00', 'LC82151142014011LGN00', 'LC82161062014338LGN00', 'LC82161072014306LGN00', 'LC82161072014338LGN00', 'LC82161082014338LGN00', 'LC82161092014338LGN00', 'LC82161122014050LGN00', 'LC82171052013342LGN00', 'LC82171102014329LGN00', 'LC82171132013358LGN00', 'LC82181052013333LGN00']\n",
      "Already Untarred Files: \n",
      "['LC82071142014003LGN00', 'LC82081132013343LGN00', 'LC82081122013343LGN00', 'LC82201072015017LGN00', 'LC82081142013343LGN00', 'LC82121132014038LGN00', 'LC82141112014052LGN00', 'LC82161062014338LGN00', 'LC82121142014038LGN00', 'LC82151032013360LGN00', 'LC82121112013339LGN00', 'LC82161072014306LGN00', 'LC82131092013314LGN00', 'LC82121122013339LGN00', 'LC82151042013344LGN00', 'LC82161072014338LGN00', 'LC82131102013314LGN00', 'LC82151052013344LGN00', 'LC82161082014338LGN00', 'LC82131132013362LGN00', 'LC82151072014011LGN00', 'LC82161092014338LGN00', 'LC82141042015087LGN00', 'LC82151112014043LGN00', 'LC82161122014050LGN00', 'LC82141102014052LGN00', 'LC82151142014011LGN00', 'LC82171052013342LGN00', 'LC82171102014329LGN00', 'LC82171132013358LGN00']\n",
      "LC82201072015017LGN00 is already un-tarred\n",
      "LC82071142014003LGN00 is already un-tarred\n",
      "LC82081122013343LGN00 is already un-tarred\n",
      "LC82081132013343LGN00 is already un-tarred\n",
      "LC82081142013343LGN00 is already un-tarred\n",
      "LC82121112013339LGN00 is already un-tarred\n",
      "LC82121122013339LGN00 is already un-tarred\n",
      "LC82141112014052LGN00 is already un-tarred\n",
      "LC82151032013360LGN00 is already un-tarred\n",
      "LC82151042013344LGN00 is already un-tarred\n",
      "LC82151052013344LGN00 is already un-tarred\n",
      "LC82121132014038LGN00 is already un-tarred\n",
      "LC82151072014011LGN00 is already un-tarred\n",
      "LC82161062014338LGN00 is already un-tarred\n",
      "LC82161072014306LGN00 is already un-tarred\n",
      "LC82121142014038LGN00 is already un-tarred\n",
      "LC82131092013314LGN00 is already un-tarred\n",
      "LC82161072014338LGN00 is already un-tarred\n",
      "LC82131102013314LGN00 is already un-tarred\n",
      "LC82161082014338LGN00 is already un-tarred\n",
      "LC82131132013362LGN00 is already un-tarred\n",
      "LC82161092014338LGN00 is already un-tarred\n",
      "LC82141042015087LGN00 is already un-tarred\n",
      "LC82161122014050LGN00 is already un-tarred\n",
      "LC82151112014043LGN00 is already un-tarred\n",
      "LC82171052013342LGN00 is already un-tarred\n",
      "LC82171102014329LGN00 is already un-tarred\n",
      "LC82171132013358LGN00 is already un-tarred\n",
      "LC82141102014052LGN00 is already un-tarred\n",
      "LC82151142014011LGN00 is already un-tarred\n",
      "Thread: Thread-4 Untarring: LC82181052013333LGN00\n",
      "/home/divyanshu_g25/AntarcticRockOutcrop/data/downloads/LC82181052013333LGN00.tar.bz\n",
      "Scene LC82071142014003LGN00 already processed\n",
      "Scene LC82081132013343LGN00 already processed\n",
      "Scene LC82081122013343LGN00 already processed\n",
      "Scene LC82201072015017LGN00 already processed\n",
      "Scene LC82081142013343LGN00 already processed\n",
      "Scene LC82121132014038LGN00 already processed\n",
      "Scene LC82141112014052LGN00 already processed\n",
      "Scene LC82161062014338LGN00 already processed\n",
      "Scene LC82121142014038LGN00 already processed\n",
      "Scene LC82151032013360LGN00 already processed\n",
      "Scene LC82121112013339LGN00 already processed\n",
      "Scene LC82161072014306LGN00 already processed\n",
      "Scene LC82131092013314LGN00 already processed\n",
      "Scene LC82121122013339LGN00 already processed\n",
      "Scene LC82151042013344LGN00 already processed\n",
      "Scene LC82161072014338LGN00 already processed\n",
      "Scene LC82131102013314LGN00 already processed\n",
      "Scene LC82151052013344LGN00 already processed\n",
      "Scene LC82161082014338LGN00 already processed\n",
      "Scene LC82131132013362LGN00 already processed\n",
      "Scene LC82151072014011LGN00 already processed\n",
      "Scene LC82161092014338LGN00 already processed\n",
      "Scene LC82141042015087LGN00 already processed\n",
      "Scene LC82151112014043LGN00 already processed\n",
      "Scene LC82161122014050LGN00 already processed\n",
      "Scene LC82141102014052LGN00 already processed\n",
      "Scene LC82151142014011LGN00 already processed\n",
      "Scene LC82171052013342LGN00 already processed\n",
      "Scene LC82171102014329LGN00 already processed\n",
      "Scene LC82171132013358LGN00 already processed\n",
      "Processing image LC82181052013333LGN00\n",
      "(9431, 9431)\n",
      "Shape of Stacked Images (9431, 9431, 10)\n",
      "Creating Directory:  data/stacked_chunks/LC82181052013333LGN00\n",
      "\u001b[KProcessing |################################| 324/324\n",
      "\u001b[?25h"
     ]
    }
   ],
   "source": [
    "!python src/init.py"
   ]
  },
  {
   "cell_type": "code",
   "execution_count": 3,
   "metadata": {
    "scrolled": false
   },
   "outputs": [
    {
     "name": "stdout",
     "output_type": "stream",
     "text": [
      "LC82071142014003LGN00_label.TIF  LC82151072014011LGN00_label.TIF\r\n",
      "LC82081122013343LGN00_label.TIF  LC82151112014043LGN00_label.TIF\r\n",
      "LC82081132013343LGN00_label.TIF  LC82151142014011LGN00_label.TIF\r\n",
      "LC82081142013343LGN00_label.TIF  LC82161062014338LGN00_label.TIF\r\n",
      "LC82121112013339LGN00_label.TIF  LC82161072014306LGN00_label.TIF\r\n",
      "LC82121122013339LGN00_label.TIF  LC82161072014338LGN00_label.TIF\r\n",
      "LC82121132014038LGN00_label.TIF  LC82161082014338LGN00_label.TIF\r\n",
      "LC82121142014038LGN00_label.TIF  LC82161092014338LGN00_label.TIF\r\n",
      "LC82131092013314LGN00_label.TIF  LC82161122014050LGN00_label.TIF\r\n",
      "LC82131102013314LGN00_label.TIF  LC82171052013342LGN00_label.TIF\r\n",
      "LC82131132013362LGN00_label.TIF  LC82171102014329LGN00_label.TIF\r\n",
      "LC82141042015087LGN00_label.TIF  LC82171132013358LGN00_label.TIF\r\n",
      "LC82141102014052LGN00_label.TIF  LC82181052013333LGN00_label.TIF\r\n",
      "LC82141112014052LGN00_label.TIF  LC82181052015003LGN00_label.TIF\r\n",
      "LC82151032013360LGN00_label.TIF  LC82191052013324LGN00_label.TIF\r\n",
      "LC82151042013344LGN00_label.TIF  LC82201072015017LGN00_label.TIF\r\n",
      "LC82151052013344LGN00_label.TIF\r\n"
     ]
    }
   ],
   "source": [
    "!ls data/labels"
   ]
  },
  {
   "cell_type": "code",
   "execution_count": 24,
   "metadata": {},
   "outputs": [],
   "source": [
    "!rm data/stacked_chunks -rf"
   ]
  },
  {
   "cell_type": "code",
   "execution_count": 91,
   "metadata": {},
   "outputs": [
    {
     "data": {
      "text/plain": [
       "(512, 512, 10)"
      ]
     },
     "execution_count": 91,
     "metadata": {},
     "output_type": "execute_result"
    }
   ],
   "source": [
    "data.shape"
   ]
  },
  {
   "cell_type": "code",
   "execution_count": 92,
   "metadata": {},
   "outputs": [
    {
     "data": {
      "text/plain": [
       "(512, 512, 3)"
      ]
     },
     "execution_count": 92,
     "metadata": {},
     "output_type": "execute_result"
    }
   ],
   "source": [
    "true_color = data[:,:,2:5]\n",
    "true_color.shape"
   ]
  },
  {
   "cell_type": "code",
   "execution_count": 93,
   "metadata": {},
   "outputs": [
    {
     "name": "stderr",
     "output_type": "stream",
     "text": [
      "Clipping input data to the valid range for imshow with RGB data ([0..1] for floats or [0..255] for integers).\n"
     ]
    },
    {
     "data": {
      "text/plain": [
       "<matplotlib.image.AxesImage at 0x7f1b848986a0>"
      ]
     },
     "execution_count": 93,
     "metadata": {},
     "output_type": "execute_result"
    },
    {
     "data": {
      "image/png": "[encoded data removed]",
      "text/plain": [
       "<Figure size 432x288 with 1 Axes>"
      ]
     },
     "metadata": {
      "needs_background": "light"
     },
     "output_type": "display_data"
    }
   ],
   "source": [
    "plt.imshow(true_color)"
   ]
  },
  {
   "cell_type": "code",
   "execution_count": null,
   "metadata": {},
   "outputs": [],
   "source": []
  }
 ],
 "metadata": {
  "kernelspec": {
   "display_name": "Python 3",
   "language": "python",
   "name": "python3"
  },
  "language_info": {
   "codemirror_mode": {
    "name": "ipython",
    "version": 3
   },
   "file_extension": ".py",
   "mimetype": "text/x-python",
   "name": "python",
   "nbconvert_exporter": "python",
   "pygments_lexer": "ipython3",
   "version": "3.6.8"
  }
 },
 "nbformat": 4,
 "nbformat_minor": 2
}
