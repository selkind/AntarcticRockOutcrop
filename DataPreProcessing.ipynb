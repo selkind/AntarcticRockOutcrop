{
 "cells": [
  {
   "cell_type": "code",
   "execution_count": 37,
   "metadata": {},
   "outputs": [
    {
     "name": "stdout",
     "output_type": "stream",
     "text": [
      "Requirement already satisfied: requests in /home/dsa/venv/lib/python3.6/site-packages (2.22.0)\n",
      "Requirement already satisfied: chardet<3.1.0,>=3.0.2 in /home/dsa/venv/lib/python3.6/site-packages (from requests) (3.0.4)\n",
      "Requirement already satisfied: certifi>=2017.4.17 in /home/dsa/venv/lib/python3.6/site-packages (from requests) (2019.9.11)\n",
      "Requirement already satisfied: idna<2.9,>=2.5 in /home/dsa/venv/lib/python3.6/site-packages (from requests) (2.8)\n",
      "Requirement already satisfied: urllib3!=1.25.0,!=1.25.1,<1.26,>=1.21.1 in /home/dsa/venv/lib/python3.6/site-packages (from requests) (1.25.6)\n",
      "Requirement already satisfied: usgs in /home/dsa/venv/lib/python3.6/site-packages (0.2.7)\n",
      "Requirement already satisfied: requests>=2.7.0 in /home/dsa/venv/lib/python3.6/site-packages (from usgs) (2.22.0)\n",
      "Requirement already satisfied: click>=4.0 in /home/dsa/venv/lib/python3.6/site-packages (from usgs) (7.0)\n",
      "Requirement already satisfied: requests-futures>=0.9.5 in /home/dsa/venv/lib/python3.6/site-packages (from usgs) (1.0.0)\n",
      "Requirement already satisfied: urllib3!=1.25.0,!=1.25.1,<1.26,>=1.21.1 in /home/dsa/venv/lib/python3.6/site-packages (from requests>=2.7.0->usgs) (1.25.6)\n",
      "Requirement already satisfied: chardet<3.1.0,>=3.0.2 in /home/dsa/venv/lib/python3.6/site-packages (from requests>=2.7.0->usgs) (3.0.4)\n",
      "Requirement already satisfied: certifi>=2017.4.17 in /home/dsa/venv/lib/python3.6/site-packages (from requests>=2.7.0->usgs) (2019.9.11)\n",
      "Requirement already satisfied: idna<2.9,>=2.5 in /home/dsa/venv/lib/python3.6/site-packages (from requests>=2.7.0->usgs) (2.8)\n",
      "Requirement already satisfied: geocoder in /home/dsa/venv/lib/python3.6/site-packages (1.38.1)\n",
      "Requirement already satisfied: six in /home/dsa/venv/lib/python3.6/site-packages (from geocoder) (1.12.0)\n",
      "Requirement already satisfied: future in /home/dsa/venv/lib/python3.6/site-packages (from geocoder) (0.18.2)\n",
      "Requirement already satisfied: click in /home/dsa/venv/lib/python3.6/site-packages (from geocoder) (7.0)\n",
      "Requirement already satisfied: requests in /home/dsa/venv/lib/python3.6/site-packages (from geocoder) (2.22.0)\n",
      "Requirement already satisfied: ratelim in /home/dsa/venv/lib/python3.6/site-packages (from geocoder) (0.1.6)\n",
      "Requirement already satisfied: idna<2.9,>=2.5 in /home/dsa/venv/lib/python3.6/site-packages (from requests->geocoder) (2.8)\n",
      "Requirement already satisfied: certifi>=2017.4.17 in /home/dsa/venv/lib/python3.6/site-packages (from requests->geocoder) (2019.9.11)\n",
      "Requirement already satisfied: urllib3!=1.25.0,!=1.25.1,<1.26,>=1.21.1 in /home/dsa/venv/lib/python3.6/site-packages (from requests->geocoder) (1.25.6)\n",
      "Requirement already satisfied: chardet<3.1.0,>=3.0.2 in /home/dsa/venv/lib/python3.6/site-packages (from requests->geocoder) (3.0.4)\n",
      "Requirement already satisfied: decorator in /home/dsa/venv/lib/python3.6/site-packages (from ratelim->geocoder) (4.4.0)\n",
      "Requirement already satisfied: homura in /home/dsa/venv/lib/python3.6/site-packages (0.1.5)\n",
      "Requirement already satisfied: six in /home/dsa/venv/lib/python3.6/site-packages (from homura) (1.12.0)\n",
      "Requirement already satisfied: pycurl in /home/dsa/venv/lib/python3.6/site-packages (from homura) (7.43.0.3)\n",
      "Requirement already satisfied: certifi in /home/dsa/venv/lib/python3.6/site-packages (from homura) (2019.9.11)\n",
      "Requirement already satisfied: humanize in /home/dsa/venv/lib/python3.6/site-packages (from homura) (0.5.1)\n",
      "Requirement already satisfied: termcolor in /home/dsa/venv/lib/python3.6/site-packages (1.1.0)\n",
      "Requirement already satisfied: affine==2.3.0 in /home/dsa/venv/lib/python3.6/site-packages (from -r requirements.txt (line 1)) (2.3.0)\n",
      "Requirement already satisfied: attrs==19.2.0 in /home/dsa/venv/lib/python3.6/site-packages (from -r requirements.txt (line 2)) (19.2.0)\n",
      "Requirement already satisfied: backcall==0.1.0 in /home/dsa/venv/lib/python3.6/site-packages (from -r requirements.txt (line 3)) (0.1.0)\n",
      "Requirement already satisfied: bleach==3.1.0 in /home/dsa/venv/lib/python3.6/site-packages (from -r requirements.txt (line 4)) (3.1.0)\n",
      "Requirement already satisfied: certifi==2019.9.11 in /home/dsa/venv/lib/python3.6/site-packages (from -r requirements.txt (line 5)) (2019.9.11)\n",
      "Requirement already satisfied: Click==7.0 in /home/dsa/venv/lib/python3.6/site-packages (from -r requirements.txt (line 6)) (7.0)\n",
      "Requirement already satisfied: click-plugins==1.1.1 in /home/dsa/venv/lib/python3.6/site-packages (from -r requirements.txt (line 7)) (1.1.1)\n",
      "Requirement already satisfied: cligj==0.5.0 in /home/dsa/venv/lib/python3.6/site-packages (from -r requirements.txt (line 8)) (0.5.0)\n",
      "Requirement already satisfied: cycler==0.10.0 in /home/dsa/venv/lib/python3.6/site-packages (from -r requirements.txt (line 9)) (0.10.0)\n",
      "Requirement already satisfied: decorator==4.4.0 in /home/dsa/venv/lib/python3.6/site-packages (from -r requirements.txt (line 10)) (4.4.0)\n",
      "Requirement already satisfied: defusedxml==0.6.0 in /home/dsa/venv/lib/python3.6/site-packages (from -r requirements.txt (line 11)) (0.6.0)\n",
      "Requirement already satisfied: descartes==1.1.0 in /home/dsa/venv/lib/python3.6/site-packages (from -r requirements.txt (line 12)) (1.1.0)\n",
      "Requirement already satisfied: entrypoints==0.3 in /home/dsa/venv/lib/python3.6/site-packages (from -r requirements.txt (line 13)) (0.3)\n",
      "Requirement already satisfied: Fiona==1.8.8 in /home/dsa/venv/lib/python3.6/site-packages (from -r requirements.txt (line 14)) (1.8.8)\n",
      "Requirement already satisfied: homura==0.1.5 in /home/dsa/venv/lib/python3.6/site-packages (from -r requirements.txt (line 15)) (0.1.5)\n",
      "Requirement already satisfied: humanize==0.5.1 in /home/dsa/venv/lib/python3.6/site-packages (from -r requirements.txt (line 16)) (0.5.1)\n",
      "Requirement already satisfied: importlib-metadata==0.23 in /home/dsa/venv/lib/python3.6/site-packages (from -r requirements.txt (line 17)) (0.23)\n",
      "Requirement already satisfied: ipykernel==5.1.2 in /home/dsa/venv/lib/python3.6/site-packages (from -r requirements.txt (line 18)) (5.1.2)\n",
      "Requirement already satisfied: ipython==7.8.0 in /home/dsa/venv/lib/python3.6/site-packages (from -r requirements.txt (line 19)) (7.8.0)\n",
      "Requirement already satisfied: ipython-genutils==0.2.0 in /home/dsa/venv/lib/python3.6/site-packages (from -r requirements.txt (line 20)) (0.2.0)\n",
      "Requirement already satisfied: ipywidgets==7.5.1 in /home/dsa/venv/lib/python3.6/site-packages (from -r requirements.txt (line 21)) (7.5.1)\n",
      "Requirement already satisfied: jedi==0.15.1 in /home/dsa/venv/lib/python3.6/site-packages (from -r requirements.txt (line 22)) (0.15.1)\n",
      "Requirement already satisfied: Jinja2==2.10.3 in /home/dsa/venv/lib/python3.6/site-packages (from -r requirements.txt (line 23)) (2.10.3)\n",
      "Requirement already satisfied: jsonschema==3.1.1 in /home/dsa/venv/lib/python3.6/site-packages (from -r requirements.txt (line 24)) (3.1.1)\n",
      "Requirement already satisfied: jupyter==1.0.0 in /home/dsa/venv/lib/python3.6/site-packages (from -r requirements.txt (line 25)) (1.0.0)\n",
      "Requirement already satisfied: jupyter-client==5.3.4 in /home/dsa/venv/lib/python3.6/site-packages (from -r requirements.txt (line 26)) (5.3.4)\n",
      "Requirement already satisfied: jupyter-console==6.0.0 in /home/dsa/venv/lib/python3.6/site-packages (from -r requirements.txt (line 27)) (6.0.0)\n",
      "Requirement already satisfied: jupyter-core==4.6.0 in /home/dsa/venv/lib/python3.6/site-packages (from -r requirements.txt (line 28)) (4.6.0)\n",
      "Requirement already satisfied: kiwisolver==1.1.0 in /home/dsa/venv/lib/python3.6/site-packages (from -r requirements.txt (line 29)) (1.1.0)\n",
      "Requirement already satisfied: MarkupSafe==1.1.1 in /home/dsa/venv/lib/python3.6/site-packages (from -r requirements.txt (line 30)) (1.1.1)\n",
      "Requirement already satisfied: matplotlib==3.1.1 in /home/dsa/venv/lib/python3.6/site-packages (from -r requirements.txt (line 31)) (3.1.1)\n",
      "Requirement already satisfied: mistune==0.8.4 in /home/dsa/venv/lib/python3.6/site-packages (from -r requirements.txt (line 32)) (0.8.4)\n",
      "Requirement already satisfied: more-itertools==7.2.0 in /home/dsa/venv/lib/python3.6/site-packages (from -r requirements.txt (line 33)) (7.2.0)\n",
      "Requirement already satisfied: munch==2.3.2 in /home/dsa/venv/lib/python3.6/site-packages (from -r requirements.txt (line 34)) (2.3.2)\n",
      "Requirement already satisfied: nbconvert==5.6.0 in /home/dsa/venv/lib/python3.6/site-packages (from -r requirements.txt (line 35)) (5.6.0)\n"
     ]
    },
    {
     "name": "stdout",
     "output_type": "stream",
     "text": [
      "Requirement already satisfied: nbformat==4.4.0 in /home/dsa/venv/lib/python3.6/site-packages (from -r requirements.txt (line 36)) (4.4.0)\n",
      "Requirement already satisfied: notebook==6.0.1 in /home/dsa/venv/lib/python3.6/site-packages (from -r requirements.txt (line 37)) (6.0.1)\n",
      "Requirement already satisfied: numpy==1.17.2 in /home/dsa/venv/lib/python3.6/site-packages (from -r requirements.txt (line 38)) (1.17.2)\n",
      "Requirement already satisfied: pandas==0.25.1 in /home/dsa/venv/lib/python3.6/site-packages (from -r requirements.txt (line 39)) (0.25.1)\n",
      "Requirement already satisfied: pandocfilters==1.4.2 in /home/dsa/venv/lib/python3.6/site-packages (from -r requirements.txt (line 40)) (1.4.2)\n",
      "Requirement already satisfied: parso==0.5.1 in /home/dsa/venv/lib/python3.6/site-packages (from -r requirements.txt (line 41)) (0.5.1)\n",
      "Requirement already satisfied: pexpect==4.7.0 in /home/dsa/venv/lib/python3.6/site-packages (from -r requirements.txt (line 42)) (4.7.0)\n",
      "Requirement already satisfied: pickleshare==0.7.5 in /home/dsa/venv/lib/python3.6/site-packages (from -r requirements.txt (line 43)) (0.7.5)\n",
      "Requirement already satisfied: prometheus-client==0.7.1 in /home/dsa/venv/lib/python3.6/site-packages (from -r requirements.txt (line 44)) (0.7.1)\n",
      "Requirement already satisfied: prompt-toolkit==2.0.10 in /home/dsa/venv/lib/python3.6/site-packages (from -r requirements.txt (line 45)) (2.0.10)\n",
      "Requirement already satisfied: ptyprocess==0.6.0 in /home/dsa/venv/lib/python3.6/site-packages (from -r requirements.txt (line 46)) (0.6.0)\n",
      "Requirement already satisfied: pycurl==7.* in /home/dsa/venv/lib/python3.6/site-packages (from -r requirements.txt (line 47)) (7.43.0.3)\n",
      "Requirement already satisfied: Pygments==2.4.2 in /home/dsa/venv/lib/python3.6/site-packages (from -r requirements.txt (line 48)) (2.4.2)\n",
      "Requirement already satisfied: pyparsing==2.4.2 in /home/dsa/venv/lib/python3.6/site-packages (from -r requirements.txt (line 49)) (2.4.2)\n",
      "Requirement already satisfied: pyrsistent==0.15.4 in /home/dsa/venv/lib/python3.6/site-packages (from -r requirements.txt (line 50)) (0.15.4)\n",
      "Requirement already satisfied: pyshp==2.1.0 in /home/dsa/venv/lib/python3.6/site-packages (from -r requirements.txt (line 51)) (2.1.0)\n",
      "Requirement already satisfied: python-dateutil==2.8.0 in /home/dsa/venv/lib/python3.6/site-packages (from -r requirements.txt (line 52)) (2.8.0)\n",
      "Requirement already satisfied: pytz==2019.3 in /home/dsa/venv/lib/python3.6/site-packages (from -r requirements.txt (line 53)) (2019.3)\n",
      "Requirement already satisfied: pyzmq==18.1.0 in /home/dsa/venv/lib/python3.6/site-packages (from -r requirements.txt (line 54)) (18.1.0)\n",
      "Requirement already satisfied: qtconsole==4.5.5 in /home/dsa/venv/lib/python3.6/site-packages (from -r requirements.txt (line 55)) (4.5.5)\n",
      "Requirement already satisfied: rasterio==1.1.0 in /home/dsa/venv/lib/python3.6/site-packages (from -r requirements.txt (line 56)) (1.1.0)\n",
      "Requirement already satisfied: scipy==1.3.1 in /home/dsa/venv/lib/python3.6/site-packages (from -r requirements.txt (line 57)) (1.3.1)\n",
      "Requirement already satisfied: seaborn==0.9.0 in /home/dsa/venv/lib/python3.6/site-packages (from -r requirements.txt (line 58)) (0.9.0)\n",
      "Requirement already satisfied: Send2Trash==1.5.0 in /home/dsa/venv/lib/python3.6/site-packages (from -r requirements.txt (line 59)) (1.5.0)\n",
      "Requirement already satisfied: six==1.12.0 in /home/dsa/venv/lib/python3.6/site-packages (from -r requirements.txt (line 60)) (1.12.0)\n",
      "Requirement already satisfied: snuggs==1.4.7 in /home/dsa/venv/lib/python3.6/site-packages (from -r requirements.txt (line 61)) (1.4.7)\n",
      "Requirement already satisfied: terminado==0.8.2 in /home/dsa/venv/lib/python3.6/site-packages (from -r requirements.txt (line 62)) (0.8.2)\n",
      "Requirement already satisfied: testpath==0.4.2 in /home/dsa/venv/lib/python3.6/site-packages (from -r requirements.txt (line 63)) (0.4.2)\n",
      "Requirement already satisfied: tornado==6.0.3 in /home/dsa/venv/lib/python3.6/site-packages (from -r requirements.txt (line 64)) (6.0.3)\n",
      "Requirement already satisfied: traitlets==4.3.3 in /home/dsa/venv/lib/python3.6/site-packages (from -r requirements.txt (line 65)) (4.3.3)\n",
      "Requirement already satisfied: wcwidth==0.1.7 in /home/dsa/venv/lib/python3.6/site-packages (from -r requirements.txt (line 66)) (0.1.7)\n",
      "Requirement already satisfied: webencodings==0.5.1 in /home/dsa/venv/lib/python3.6/site-packages (from -r requirements.txt (line 67)) (0.5.1)\n",
      "Requirement already satisfied: widgetsnbextension==3.5.1 in /home/dsa/venv/lib/python3.6/site-packages (from -r requirements.txt (line 68)) (3.5.1)\n",
      "Requirement already satisfied: zipp==0.6.0 in /home/dsa/venv/lib/python3.6/site-packages (from -r requirements.txt (line 69)) (0.6.0)\n",
      "Requirement already satisfied: setuptools>=18.5 in /home/dsa/venv/lib/python3.6/site-packages (from ipython==7.8.0->-r requirements.txt (line 19)) (41.6.0)\n",
      "Requirement already satisfied: progress in /home/dsa/venv/lib/python3.6/site-packages (1.5)\n",
      "Collecting pillow\n",
      "\u001b[?25l  Downloading https://files.pythonhosted.org/packages/10/5c/0e94e689de2476c4c5e644a3bd223a1c1b9e2bdb7c510191750be74fa786/Pillow-6.2.1-cp36-cp36m-manylinux1_x86_64.whl (2.1MB)\n",
      "\u001b[K     |████████████████████████████████| 2.1MB 2.6MB/s eta 0:00:01\n",
      "\u001b[?25hInstalling collected packages: pillow\n",
      "Successfully installed pillow-6.2.1\n"
     ]
    }
   ],
   "source": [
    "!pip install requests\n",
    "!pip install usgs\n",
    "!pip install geocoder\n",
    "# !sudo apt install libcurl4-openssl-dev libssl-dev\n",
    "!pip install homura\n",
    "!pip install termcolor\n",
    "!pip install -r requirements.txt\n",
    "!pip install progress\n",
    "!pip install pillow"
   ]
  },
  {
   "cell_type": "code",
   "execution_count": 4,
   "metadata": {},
   "outputs": [],
   "source": [
    "%matplotlib inline\n",
    "import matplotlib.pyplot as plt\n",
    "import numpy as np"
   ]
  },
  {
   "cell_type": "code",
   "execution_count": 40,
   "metadata": {},
   "outputs": [
    {
     "name": "stdout",
     "output_type": "stream",
     "text": [
      "2019-11-05 15:05:14,143 - scene_downloader_log\n",
      "INFO\n",
      "supplement file already exists at path: /home/dsa/ant/supplement.zip\n",
      "\n",
      "2019-11-05 15:05:14,143 - scene_downloader_log\n",
      "INFO\n",
      "Scene ID file already extracted at /home/dsa/ant/burton_johnson_scene_ids.txt\n",
      "\n",
      "2019-11-05 15:05:14,144 - scene_downloader_log\n",
      "INFO\n",
      "Outcrop shapefile already extracted at /home/dsa/ant/outcrops/Landsat_8_Derived_Outcrop_Dataset_2016.shp\n",
      "\n",
      "Downloaded SceneIDs: \n",
      "['LC82201072015017LGN00', 'LC82071142014003LGN00', 'LC82081122013343LGN00', 'LC82081132013343LGN00']\n",
      "Already Untarred Files: \n",
      "['LC82071142014003LGN00', 'LC82081122013343LGN00', 'LC82081132013343LGN00', 'LC82201072015017LGN00']\n",
      "LC82201072015017LGN00 is already un-tarred\n",
      "LC82071142014003LGN00 is already un-tarred\n",
      "LC82081122013343LGN00 is already un-tarred\n",
      "LC82081132013343LGN00 is already un-tarred\n",
      "Processing image LC82071142014003LGN00\n",
      "(8651, 8691)\n",
      "Shape of Stacked Images (8651, 8691, 10)\n",
      "Creating Directory:  /home/dsa/ant/stacked_chunks/LC82071142014003LGN00\n",
      "\u001b[KProcessing ▣▣▣▣▣▣▣▣▣▣▣▣▣▣▣▣▣▣▣▣▣▣▣▣▣▣▣▣▣▣▣▣ 100%\n",
      "Processing image LC82081122013343LGN00\n",
      "(8741, 8791)\n",
      "Shape of Stacked Images (8741, 8791, 10)\n",
      "Creating Directory:  /home/dsa/ant/stacked_chunks/LC82081122013343LGN00\n",
      "\u001b[KProcessing ▣▣▣▣▣▣▣▣▣▣▣▣▣▣▣▣▣▣▣▣▣▣▣▣▣▣▣▣▣▣▣▣ 100%\n",
      "Processing image LC82081132013343LGN00\n",
      "(8731, 8781)\n",
      "Shape of Stacked Images (8731, 8781, 10)\n",
      "Creating Directory:  /home/dsa/ant/stacked_chunks/LC82081132013343LGN00\n",
      "\u001b[KProcessing ▣▣▣▣▣▣▣▣▣▣▣▣▣▣▣▣▣▣▣▣▣▣▣▣▣▣▣▣▣▣▣▣ 100%\n",
      "Processing image LC82201072015017LGN00\n",
      "(9361, 9361)\n",
      "Shape of Stacked Images (9361, 9361, 10)\n",
      "Creating Directory:  /home/dsa/ant/stacked_chunks/LC82201072015017LGN00\n",
      "\u001b[KProcessing ▣▣▣▣▣▣▣▣▣▣▣▣▣▣▣▣▣▣▣▣▣▣▣▣▣▣▣▣▣▣▣▣ 100%\n",
      "\u001b[?25h"
     ]
    }
   ],
   "source": [
    "!python src/init.py"
   ]
  },
  {
   "cell_type": "code",
   "execution_count": 29,
   "metadata": {},
   "outputs": [
    {
     "name": "stdout",
     "output_type": "stream",
     "text": [
      "ls: cannot access 'data/labels': No such file or directory\r\n"
     ]
    }
   ],
   "source": [
    "!ls data/labels"
   ]
  },
  {
   "cell_type": "code",
   "execution_count": 24,
   "metadata": {},
   "outputs": [],
   "source": [
    "!rm data/stacked_chunks -rf"
   ]
  },
  {
   "cell_type": "code",
   "execution_count": 91,
   "metadata": {},
   "outputs": [
    {
     "data": {
      "text/plain": [
       "(512, 512, 10)"
      ]
     },
     "execution_count": 91,
     "metadata": {},
     "output_type": "execute_result"
    }
   ],
   "source": [
    "data.shape"
   ]
  },
  {
   "cell_type": "code",
   "execution_count": 92,
   "metadata": {},
   "outputs": [
    {
     "data": {
      "text/plain": [
       "(512, 512, 3)"
      ]
     },
     "execution_count": 92,
     "metadata": {},
     "output_type": "execute_result"
    }
   ],
   "source": [
    "true_color = data[:,:,2:5]\n",
    "true_color.shape"
   ]
  },
  {
   "cell_type": "code",
   "execution_count": 93,
   "metadata": {},
   "outputs": [
    {
     "name": "stderr",
     "output_type": "stream",
     "text": [
      "Clipping input data to the valid range for imshow with RGB data ([0..1] for floats or [0..255] for integers).\n"
     ]
    },
    {
     "data": {
      "text/plain": [
       "<matplotlib.image.AxesImage at 0x7f1b848986a0>"
      ]
     },
     "execution_count": 93,
     "metadata": {},
     "output_type": "execute_result"
    },
    {
     "data": {
      "image/png": "[encoded data removed]",
      "text/plain": [
       "<Figure size 432x288 with 1 Axes>"
      ]
     },
     "metadata": {
      "needs_background": "light"
     },
     "output_type": "display_data"
    }
   ],
   "source": [
    "plt.imshow(true_color)"
   ]
  },
  {
   "cell_type": "code",
   "execution_count": null,
   "metadata": {},
   "outputs": [],
   "source": []
  }
 ],
 "metadata": {
  "kernelspec": {
   "display_name": "Python 3",
   "language": "python",
   "name": "python3"
  },
  "language_info": {
   "codemirror_mode": {
    "name": "ipython",
    "version": 3
   },
   "file_extension": ".py",
   "mimetype": "text/x-python",
   "name": "python",
   "nbconvert_exporter": "python",
   "pygments_lexer": "ipython3",
   "version": "3.6.8"
  }
 },
 "nbformat": 4,
 "nbformat_minor": 2
}
