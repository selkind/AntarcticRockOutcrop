{
 "cells": [
  {
   "cell_type": "markdown",
   "metadata": {},
   "source": [
    "# This notebook has all of the steps needed to configure your workspace and download imagery for processing and analysis"
   ]
  },
  {
   "cell_type": "markdown",
   "metadata": {},
   "source": [
    "## import all necessary packages"
   ]
  },
  {
   "cell_type": "code",
   "execution_count": 43,
   "metadata": {},
   "outputs": [],
   "source": [
    "import os\n",
    "import numpy as np\n",
    "from src.landsatUtil.landsat.downloader import Downloader\n",
    "from src.utils.data_directory_manager import DataDirectoryManager\n",
    "from src.utils.image_correction import LandsatTOACorrecter\n",
    "from src.models.antarctic_rock_outcrop_os import OutcropLabeler\n",
    "import rasterio as rio\n",
    "import rasterio.mask\n",
    "import numpy as np\n",
    "import fiona\n",
    "from progress.bar import FillingSquaresBar"
   ]
  },
  {
   "cell_type": "code",
   "execution_count": 42,
   "metadata": {},
   "outputs": [
    {
     "name": "stdout",
     "output_type": "stream",
     "text": [
      "Collecting progress\n",
      "  Using cached https://files.pythonhosted.org/packages/38/ef/2e887b3d2b248916fc2121889ce68af8a16aaddbe82f9ae6533c24ff0d2b/progress-1.5.tar.gz\n",
      "Building wheels for collected packages: progress\n",
      "  Building wheel for progress (setup.py) ... \u001b[?25ldone\n",
      "\u001b[?25h  Created wheel for progress: filename=progress-1.5-cp37-none-any.whl size=8075 sha256=f5ff3bb8dd9abd656ca895efe9adc494f943d866d4356c18505ad7dd84404b55\n",
      "  Stored in directory: /home/sam/.cache/pip/wheels/6c/c8/80/32a294e3041f006c661838c05a411c7b7ffc60ff939d14e116\n",
      "Successfully built progress\n",
      "Installing collected packages: progress\n",
      "Successfully installed progress-1.5\n"
     ]
    }
   ],
   "source": [
    "# !pip install usgs\n",
    "# !pip install homura\n",
    "# !pip install geocoder\n",
    "# !pip install rasterio\n",
    "# !pip install fiona\n",
    "# !pip install progress"
   ]
  },
  {
   "cell_type": "markdown",
   "metadata": {},
   "source": [
    "## Define functions"
   ]
  },
  {
   "cell_type": "code",
   "execution_count": 36,
   "metadata": {},
   "outputs": [],
   "source": [
    "def rasterize_label(raster_path, vector_path):\n",
    "    with fiona.open(vector_path) as vectors:\n",
    "        shapes = [features['geometry'] for features in vectors]\n",
    "    \n",
    "    with rio.open(raster_path) as base:\n",
    "        meta = base.meta.copy()\n",
    "        output = (rasterio.mask.mask(base, shapes, crop=True, indexes=1)[0] > 0).astype(rio.uint8)\n",
    "    \n",
    "    output = np.expand_dims(output, axis=0)\n",
    "    return output, meta"
   ]
  },
  {
   "cell_type": "markdown",
   "metadata": {},
   "source": [
    "## Configure project directory"
   ]
  },
  {
   "cell_type": "code",
   "execution_count": 20,
   "metadata": {},
   "outputs": [],
   "source": [
    "project_directory = \"/home/sam/ant/\"\n",
    "dm = DataDirectoryManager(project_directory)"
   ]
  },
  {
   "cell_type": "markdown",
   "metadata": {},
   "source": [
    "## Load list of scene ids to be manipulated\n",
    "### This cell should create a list of scene ids from any source file that can be used to download scenes, correct them, label them, etc"
   ]
  },
  {
   "cell_type": "code",
   "execution_count": 21,
   "metadata": {},
   "outputs": [],
   "source": [
    "# This particular example loads a list from a file where each line is a single scene id\n",
    "scene_file_path = os.path.join(dm.project_dir, \"qc_ids.txt\")\n",
    "with open(scene_file_path, 'r') as scene_file:\n",
    "    scene_ids = [i[:-1] for i in scene_file]"
   ]
  },
  {
   "cell_type": "code",
   "execution_count": 46,
   "metadata": {},
   "outputs": [],
   "source": [
    "scene_ids = ['LC80311222014338LGN00', 'LC82091172014001LGN00', 'LC82131132013362LGN00', 'LC81041072013303LGN00']\n",
    "bands = [1,2,3,4,5,6,7,9,10,11]"
   ]
  },
  {
   "cell_type": "markdown",
   "metadata": {},
   "source": [
    "## Download scenes by id\n",
    "### specific bands can be downloaded by introducing a second parameter\n",
    "### It is strongly recommended that you specify bands because the provided scenes come as .tifs instead of all bands provided as a .tar.bz file that must be extracted (this extraction takes a very long time)\n",
    "\n",
    "Landsat band information can be found here: https://www.usgs.gov/land-resources/nli/landsat/landsat-8?qt-science_support_page_related_con=0#qt-science_support_page_related_con"
   ]
  },
  {
   "cell_type": "code",
   "execution_count": 54,
   "metadata": {
    "scrolled": true
   },
   "outputs": [
    {
     "name": "stdout",
     "output_type": "stream",
     "text": [
      "\u001b[34m===> \u001b[0mSource: AWS S3\n",
      "\u001b[34m===> \u001b[0mDownloading: LC80311222014338LGN00_B1.TIF\n",
      "     \u001b[32mLC80311222014338LGN00_B1.TIF already exists on your system\u001b[0m\n",
      "     \u001b[32mstored at /home/sam/ant/raw/LC80311222014338LGN00\u001b[0m\n",
      "\u001b[34m===> \u001b[0mDownloading: LC80311222014338LGN00_B2.TIF\n",
      "     \u001b[32mLC80311222014338LGN00_B2.TIF already exists on your system\u001b[0m\n",
      "     \u001b[32mstored at /home/sam/ant/raw/LC80311222014338LGN00\u001b[0m\n",
      "\u001b[34m===> \u001b[0mDownloading: LC80311222014338LGN00_B3.TIF\n",
      "     \u001b[32mLC80311222014338LGN00_B3.TIF already exists on your system\u001b[0m\n",
      "     \u001b[32mstored at /home/sam/ant/raw/LC80311222014338LGN00\u001b[0m\n",
      "\u001b[34m===> \u001b[0mDownloading: LC80311222014338LGN00_B4.TIF\n",
      "     \u001b[32mLC80311222014338LGN00_B4.TIF already exists on your system\u001b[0m\n",
      "     \u001b[32mstored at /home/sam/ant/raw/LC80311222014338LGN00\u001b[0m\n",
      "\u001b[34m===> \u001b[0mDownloading: LC80311222014338LGN00_B5.TIF\n",
      "     \u001b[32mLC80311222014338LGN00_B5.TIF already exists on your system\u001b[0m\n",
      "     \u001b[32mstored at /home/sam/ant/raw/LC80311222014338LGN00\u001b[0m\n",
      "\u001b[34m===> \u001b[0mDownloading: LC80311222014338LGN00_B6.TIF\n",
      "     \u001b[32mLC80311222014338LGN00_B6.TIF already exists on your system\u001b[0m\n",
      "     \u001b[32mstored at /home/sam/ant/raw/LC80311222014338LGN00\u001b[0m\n",
      "\u001b[34m===> \u001b[0mDownloading: LC80311222014338LGN00_B7.TIF\n",
      "     \u001b[32mLC80311222014338LGN00_B7.TIF already exists on your system\u001b[0m\n",
      "     \u001b[32mstored at /home/sam/ant/raw/LC80311222014338LGN00\u001b[0m\n",
      "\u001b[34m===> \u001b[0mDownloading: LC80311222014338LGN00_B9.TIF\n",
      "     \u001b[32mLC80311222014338LGN00_B9.TIF already exists on your system\u001b[0m\n",
      "     \u001b[32mstored at /home/sam/ant/raw/LC80311222014338LGN00\u001b[0m\n",
      "\u001b[34m===> \u001b[0mDownloading: LC80311222014338LGN00_B10.TIF\n",
      "     \u001b[32mLC80311222014338LGN00_B10.TIF already exists on your system\u001b[0m\n",
      "     \u001b[32mstored at /home/sam/ant/raw/LC80311222014338LGN00\u001b[0m\n",
      "\u001b[34m===> \u001b[0mDownloading: LC80311222014338LGN00_B11.TIF\n",
      "     \u001b[32mLC80311222014338LGN00_B11.TIF already exists on your system\u001b[0m\n",
      "     \u001b[32mstored at /home/sam/ant/raw/LC80311222014338LGN00\u001b[0m\n",
      "\u001b[34m===> \u001b[0mDownloading: LC80311222014338LGN00_BQA.TIF\n",
      "     \u001b[32mLC80311222014338LGN00_BQA.TIF already exists on your system\u001b[0m\n",
      "     \u001b[32mstored at /home/sam/ant/raw/LC80311222014338LGN00\u001b[0m\n",
      "\u001b[34m===> \u001b[0mDownloading: LC80311222014338LGN00_MTL.txt\n",
      "     \u001b[32mLC80311222014338LGN00_MTL.txt already exists on your system\u001b[0m\n",
      "     \u001b[32mstored at /home/sam/ant/raw/LC80311222014338LGN00\u001b[0m\n",
      "\u001b[34m===> \u001b[0mSource: AWS S3\n",
      "\u001b[34m===> \u001b[0mDownloading: LC82091172014001LGN00_B1.TIF\n",
      "     \u001b[32mLC82091172014001LGN00_B1.TIF already exists on your system\u001b[0m\n",
      "     \u001b[32mstored at /home/sam/ant/raw/LC82091172014001LGN00\u001b[0m\n",
      "\u001b[34m===> \u001b[0mDownloading: LC82091172014001LGN00_B2.TIF\n",
      "     \u001b[32mLC82091172014001LGN00_B2.TIF already exists on your system\u001b[0m\n",
      "     \u001b[32mstored at /home/sam/ant/raw/LC82091172014001LGN00\u001b[0m\n",
      "\u001b[34m===> \u001b[0mDownloading: LC82091172014001LGN00_B3.TIF\n",
      "     \u001b[32mLC82091172014001LGN00_B3.TIF already exists on your system\u001b[0m\n",
      "     \u001b[32mstored at /home/sam/ant/raw/LC82091172014001LGN00\u001b[0m\n",
      "\u001b[34m===> \u001b[0mDownloading: LC82091172014001LGN00_B4.TIF\n",
      "     \u001b[32mLC82091172014001LGN00_B4.TIF already exists on your system\u001b[0m\n",
      "     \u001b[32mstored at /home/sam/ant/raw/LC82091172014001LGN00\u001b[0m\n",
      "\u001b[34m===> \u001b[0mDownloading: LC82091172014001LGN00_B5.TIF\n",
      "     \u001b[32mLC82091172014001LGN00_B5.TIF already exists on your system\u001b[0m\n",
      "     \u001b[32mstored at /home/sam/ant/raw/LC82091172014001LGN00\u001b[0m\n",
      "\u001b[34m===> \u001b[0mDownloading: LC82091172014001LGN00_B6.TIF\n",
      "     \u001b[32mLC82091172014001LGN00_B6.TIF already exists on your system\u001b[0m\n",
      "     \u001b[32mstored at /home/sam/ant/raw/LC82091172014001LGN00\u001b[0m\n",
      "\u001b[34m===> \u001b[0mDownloading: LC82091172014001LGN00_B7.TIF\n",
      "     \u001b[32mLC82091172014001LGN00_B7.TIF already exists on your system\u001b[0m\n",
      "     \u001b[32mstored at /home/sam/ant/raw/LC82091172014001LGN00\u001b[0m\n",
      "\u001b[34m===> \u001b[0mDownloading: LC82091172014001LGN00_B9.TIF\n",
      "     \u001b[32mLC82091172014001LGN00_B9.TIF already exists on your system\u001b[0m\n",
      "     \u001b[32mstored at /home/sam/ant/raw/LC82091172014001LGN00\u001b[0m\n",
      "\u001b[34m===> \u001b[0mDownloading: LC82091172014001LGN00_B10.TIF\n",
      "     \u001b[32mLC82091172014001LGN00_B10.TIF already exists on your system\u001b[0m\n",
      "     \u001b[32mstored at /home/sam/ant/raw/LC82091172014001LGN00\u001b[0m\n",
      "\u001b[34m===> \u001b[0mDownloading: LC82091172014001LGN00_B11.TIF\n",
      "     \u001b[32mLC82091172014001LGN00_B11.TIF already exists on your system\u001b[0m\n",
      "     \u001b[32mstored at /home/sam/ant/raw/LC82091172014001LGN00\u001b[0m\n",
      "\u001b[34m===> \u001b[0mDownloading: LC82091172014001LGN00_BQA.TIF\n",
      "     \u001b[32mLC82091172014001LGN00_BQA.TIF already exists on your system\u001b[0m\n",
      "     \u001b[32mstored at /home/sam/ant/raw/LC82091172014001LGN00\u001b[0m\n",
      "\u001b[34m===> \u001b[0mDownloading: LC82091172014001LGN00_MTL.txt\n",
      "     \u001b[32mLC82091172014001LGN00_MTL.txt already exists on your system\u001b[0m\n",
      "     \u001b[32mstored at /home/sam/ant/raw/LC82091172014001LGN00\u001b[0m\n",
      "\u001b[34m===> \u001b[0mDownloading: LC82091172014001LGN00_BQA.TIF\n",
      "     \u001b[32mLC82091172014001LGN00_BQA.TIF already exists on your system\u001b[0m\n",
      "     \u001b[32mstored at /home/sam/ant/raw/LC82091172014001LGN00\u001b[0m\n",
      "\u001b[34m===> \u001b[0mSource: AWS S3\n",
      "\u001b[34m===> \u001b[0mDownloading: LC82131132013362LGN00_B1.TIF\n",
      "     \u001b[32mLC82131132013362LGN00_B1.TIF already exists on your system\u001b[0m\n",
      "     \u001b[32mstored at /home/sam/ant/raw/LC82131132013362LGN00\u001b[0m\n",
      "\u001b[34m===> \u001b[0mDownloading: LC82131132013362LGN00_B2.TIF\n",
      "     \u001b[32mLC82131132013362LGN00_B2.TIF already exists on your system\u001b[0m\n",
      "     \u001b[32mstored at /home/sam/ant/raw/LC82131132013362LGN00\u001b[0m\n",
      "\u001b[34m===> \u001b[0mDownloading: LC82131132013362LGN00_B3.TIF\n",
      "     \u001b[32mLC82131132013362LGN00_B3.TIF already exists on your system\u001b[0m\n",
      "     \u001b[32mstored at /home/sam/ant/raw/LC82131132013362LGN00\u001b[0m\n",
      "\u001b[34m===> \u001b[0mDownloading: LC82131132013362LGN00_B4.TIF\n",
      "     \u001b[32mLC82131132013362LGN00_B4.TIF already exists on your system\u001b[0m\n",
      "     \u001b[32mstored at /home/sam/ant/raw/LC82131132013362LGN00\u001b[0m\n",
      "\u001b[34m===> \u001b[0mDownloading: LC82131132013362LGN00_B5.TIF\n",
      "     \u001b[32mLC82131132013362LGN00_B5.TIF already exists on your system\u001b[0m\n",
      "     \u001b[32mstored at /home/sam/ant/raw/LC82131132013362LGN00\u001b[0m\n",
      "\u001b[34m===> \u001b[0mDownloading: LC82131132013362LGN00_B6.TIF\n",
      "     \u001b[32mLC82131132013362LGN00_B6.TIF already exists on your system\u001b[0m\n",
      "     \u001b[32mstored at /home/sam/ant/raw/LC82131132013362LGN00\u001b[0m\n",
      "\u001b[34m===> \u001b[0mDownloading: LC82131132013362LGN00_B7.TIF\n",
      "     \u001b[32mLC82131132013362LGN00_B7.TIF already exists on your system\u001b[0m\n",
      "     \u001b[32mstored at /home/sam/ant/raw/LC82131132013362LGN00\u001b[0m\n",
      "\u001b[34m===> \u001b[0mDownloading: LC82131132013362LGN00_B9.TIF\n",
      "     \u001b[32mLC82131132013362LGN00_B9.TIF already exists on your system\u001b[0m\n",
      "     \u001b[32mstored at /home/sam/ant/raw/LC82131132013362LGN00\u001b[0m\n",
      "\u001b[34m===> \u001b[0mDownloading: LC82131132013362LGN00_B10.TIF\n",
      "     \u001b[32mLC82131132013362LGN00_B10.TIF already exists on your system\u001b[0m\n",
      "     \u001b[32mstored at /home/sam/ant/raw/LC82131132013362LGN00\u001b[0m\n",
      "\u001b[34m===> \u001b[0mDownloading: LC82131132013362LGN00_B11.TIF\n",
      "     \u001b[32mLC82131132013362LGN00_B11.TIF already exists on your system\u001b[0m\n",
      "     \u001b[32mstored at /home/sam/ant/raw/LC82131132013362LGN00\u001b[0m\n",
      "\u001b[34m===> \u001b[0mDownloading: LC82131132013362LGN00_BQA.TIF\n",
      "     \u001b[32mLC82131132013362LGN00_BQA.TIF already exists on your system\u001b[0m\n",
      "     \u001b[32mstored at /home/sam/ant/raw/LC82131132013362LGN00\u001b[0m\n",
      "\u001b[34m===> \u001b[0mDownloading: LC82131132013362LGN00_MTL.txt\n",
      "     \u001b[32mLC82131132013362LGN00_MTL.txt already exists on your system\u001b[0m\n",
      "     \u001b[32mstored at /home/sam/ant/raw/LC82131132013362LGN00\u001b[0m\n",
      "\u001b[34m===> \u001b[0mDownloading: LC82131132013362LGN00_BQA.TIF\n",
      "     \u001b[32mLC82131132013362LGN00_BQA.TIF already exists on your system\u001b[0m\n",
      "     \u001b[32mstored at /home/sam/ant/raw/LC82131132013362LGN00\u001b[0m\n",
      "\u001b[34m===> \u001b[0mDownloading: LC82131132013362LGN00_BQA.TIF\n",
      "     \u001b[32mLC82131132013362LGN00_BQA.TIF already exists on your system\u001b[0m\n",
      "     \u001b[32mstored at /home/sam/ant/raw/LC82131132013362LGN00\u001b[0m\n",
      "\u001b[34m===> \u001b[0mSource: AWS S3\n",
      "\u001b[34m===> \u001b[0mDownloading: LC81041072013303LGN00_B1.TIF\n",
      "     \u001b[32mLC81041072013303LGN00_B1.TIF already exists on your system\u001b[0m\n",
      "     \u001b[32mstored at /home/sam/ant/raw/LC81041072013303LGN00\u001b[0m\n",
      "\u001b[34m===> \u001b[0mDownloading: LC81041072013303LGN00_B2.TIF\n",
      "     \u001b[32mLC81041072013303LGN00_B2.TIF already exists on your system\u001b[0m\n",
      "     \u001b[32mstored at /home/sam/ant/raw/LC81041072013303LGN00\u001b[0m\n",
      "\u001b[34m===> \u001b[0mDownloading: LC81041072013303LGN00_B3.TIF\n",
      "     \u001b[32mLC81041072013303LGN00_B3.TIF already exists on your system\u001b[0m\n",
      "     \u001b[32mstored at /home/sam/ant/raw/LC81041072013303LGN00\u001b[0m\n",
      "\u001b[34m===> \u001b[0mDownloading: LC81041072013303LGN00_B4.TIF\n"
     ]
    },
    {
     "name": "stdout",
     "output_type": "stream",
     "text": [
      "     \u001b[32mLC81041072013303LGN00_B4.TIF already exists on your system\u001b[0m\n",
      "     \u001b[32mstored at /home/sam/ant/raw/LC81041072013303LGN00\u001b[0m\n",
      "\u001b[34m===> \u001b[0mDownloading: LC81041072013303LGN00_B5.TIF\n",
      "     \u001b[32mLC81041072013303LGN00_B5.TIF already exists on your system\u001b[0m\n",
      "     \u001b[32mstored at /home/sam/ant/raw/LC81041072013303LGN00\u001b[0m\n",
      "\u001b[34m===> \u001b[0mDownloading: LC81041072013303LGN00_B6.TIF\n",
      "     \u001b[32mLC81041072013303LGN00_B6.TIF already exists on your system\u001b[0m\n",
      "     \u001b[32mstored at /home/sam/ant/raw/LC81041072013303LGN00\u001b[0m\n",
      "\u001b[34m===> \u001b[0mDownloading: LC81041072013303LGN00_B7.TIF\n",
      "     \u001b[32mLC81041072013303LGN00_B7.TIF already exists on your system\u001b[0m\n",
      "     \u001b[32mstored at /home/sam/ant/raw/LC81041072013303LGN00\u001b[0m\n",
      "\u001b[34m===> \u001b[0mDownloading: LC81041072013303LGN00_B9.TIF\n",
      "     \u001b[32mLC81041072013303LGN00_B9.TIF already exists on your system\u001b[0m\n",
      "     \u001b[32mstored at /home/sam/ant/raw/LC81041072013303LGN00\u001b[0m\n",
      "\u001b[34m===> \u001b[0mDownloading: LC81041072013303LGN00_B10.TIF\n",
      "     \u001b[32mLC81041072013303LGN00_B10.TIF already exists on your system\u001b[0m\n",
      "     \u001b[32mstored at /home/sam/ant/raw/LC81041072013303LGN00\u001b[0m\n",
      "\u001b[34m===> \u001b[0mDownloading: LC81041072013303LGN00_B11.TIF\n",
      "     \u001b[32mLC81041072013303LGN00_B11.TIF already exists on your system\u001b[0m\n",
      "     \u001b[32mstored at /home/sam/ant/raw/LC81041072013303LGN00\u001b[0m\n",
      "\u001b[34m===> \u001b[0mDownloading: LC81041072013303LGN00_BQA.TIF\n",
      "     \u001b[32mLC81041072013303LGN00_BQA.TIF already exists on your system\u001b[0m\n",
      "     \u001b[32mstored at /home/sam/ant/raw/LC81041072013303LGN00\u001b[0m\n",
      "\u001b[34m===> \u001b[0mDownloading: LC81041072013303LGN00_MTL.txt\n",
      "     \u001b[32mLC81041072013303LGN00_MTL.txt already exists on your system\u001b[0m\n",
      "     \u001b[32mstored at /home/sam/ant/raw/LC81041072013303LGN00\u001b[0m\n",
      "\u001b[34m===> \u001b[0mDownloading: LC81041072013303LGN00_BQA.TIF\n",
      "     \u001b[32mLC81041072013303LGN00_BQA.TIF already exists on your system\u001b[0m\n",
      "     \u001b[32mstored at /home/sam/ant/raw/LC81041072013303LGN00\u001b[0m\n",
      "\u001b[34m===> \u001b[0mDownloading: LC81041072013303LGN00_BQA.TIF\n",
      "     \u001b[32mLC81041072013303LGN00_BQA.TIF already exists on your system\u001b[0m\n",
      "     \u001b[32mstored at /home/sam/ant/raw/LC81041072013303LGN00\u001b[0m\n",
      "\u001b[34m===> \u001b[0mDownloading: LC81041072013303LGN00_BQA.TIF\n",
      "     \u001b[32mLC81041072013303LGN00_BQA.TIF already exists on your system\u001b[0m\n",
      "     \u001b[32mstored at /home/sam/ant/raw/LC81041072013303LGN00\u001b[0m\n"
     ]
    },
    {
     "data": {
      "text/plain": [
       "['/home/sam/ant/raw/LC80311222014338LGN00',\n",
       " '/home/sam/ant/raw/LC82091172014001LGN00',\n",
       " '/home/sam/ant/raw/LC82131132013362LGN00',\n",
       " '/home/sam/ant/raw/LC81041072013303LGN00']"
      ]
     },
     "execution_count": 54,
     "metadata": {},
     "output_type": "execute_result"
    }
   ],
   "source": [
    "# specify dm.download_dir if not providing a band parameter\n",
    "downloader = Downloader(download_dir = dm.raw_image_dir) \n",
    "downloader.download(scene_ids, bands=bands.copy())"
   ]
  },
  {
   "cell_type": "markdown",
   "metadata": {},
   "source": [
    "# Process downloaded scenes\n",
    "## only run this cell if downloading .tar.bz files into dm.download_dir"
   ]
  },
  {
   "cell_type": "code",
   "execution_count": null,
   "metadata": {},
   "outputs": [],
   "source": [
    "dm.untar_scenes(scene_ids)"
   ]
  },
  {
   "cell_type": "markdown",
   "metadata": {},
   "source": [
    "# Correct scenes"
   ]
  },
  {
   "cell_type": "code",
   "execution_count": 9,
   "metadata": {
    "collapsed": true
   },
   "outputs": [
    {
     "ename": "TypeError",
     "evalue": "__init__() missing 1 required positional argument: 'scene_path'",
     "output_type": "error",
     "traceback": [
      "\u001b[0;31m---------------------------------------------------------------------------\u001b[0m",
      "\u001b[0;31mTypeError\u001b[0m                                 Traceback (most recent call last)",
      "\u001b[0;32m<ipython-input-9-90c83b34556f>\u001b[0m in \u001b[0;36m<module>\u001b[0;34m\u001b[0m\n\u001b[0;32m----> 1\u001b[0;31m \u001b[0;32mfor\u001b[0m \u001b[0mi\u001b[0m \u001b[0;32min\u001b[0m \u001b[0mscene_ids\u001b[0m\u001b[0;34m:\u001b[0m\u001b[0mcorrector\u001b[0m \u001b[0;34m=\u001b[0m \u001b[0mLandsatTOACorrecter\u001b[0m\u001b[0;34m(\u001b[0m\u001b[0;34m)\u001b[0m\u001b[0;34m\u001b[0m\u001b[0;34m\u001b[0m\u001b[0m\n\u001b[0m",
      "\u001b[0;31mTypeError\u001b[0m: __init__() missing 1 required positional argument: 'scene_path'"
     ]
    }
   ],
   "source": [
    "for i in scene_ids:\n",
    "    corrector = LandsatTOACorrecter(i)\n",
    "    corrector.correct_toa_brightness_tem(dm.corrected_image_dir)\n",
    "    corrector.correct_toa_reflectance(dm.corrected_image_dir)"
   ]
  },
  {
   "cell_type": "markdown",
   "metadata": {},
   "source": [
    "# Rasterize vector labels"
   ]
  },
  {
   "cell_type": "markdown",
   "metadata": {},
   "source": [
    "# stack bands and split into chunks along with labels"
   ]
  },
  {
   "cell_type": "markdown",
   "metadata": {},
   "source": [
    "### Define output path"
   ]
  },
  {
   "cell_type": "code",
   "execution_count": 26,
   "metadata": {},
   "outputs": [],
   "source": [
    "stack_dir = os.path.join(dm.project_dir, \"stacked_chunks\")"
   ]
  },
  {
   "cell_type": "markdown",
   "metadata": {},
   "source": [
    "### Configure output directories"
   ]
  },
  {
   "cell_type": "code",
   "execution_count": 27,
   "metadata": {},
   "outputs": [],
   "source": [
    "for i in scene_ids:\n",
    "    scene_stack_path = os.path.join(stack_dir, i)\n",
    "    if not os.path.exists(scene_stack_path):\n",
    "        os.mkdir(scene_stack_path)"
   ]
  },
  {
   "cell_type": "markdown",
   "metadata": {},
   "source": [
    "### rasterize label on scene extent"
   ]
  },
  {
   "cell_type": "code",
   "execution_count": 37,
   "metadata": {},
   "outputs": [],
   "source": [
    "for i in scene_ids:\n",
    "    reference_scene_path = os.path.join(dm.raw_image_dir, i, i + \"_B2.TIF\")\n",
    "    label_path = os.path.join(dm.label_dir, i + \"_label.TIF\")\n",
    "    if not os.path.exists(label_path):\n",
    "        try:\n",
    "            label, meta = rasterize_label(reference_scene_path, dm.outcrop_shape_path)\n",
    "            \n",
    "            meta['dtype'] = label.dtype\n",
    "            meta['count'] = 1\n",
    "            \n",
    "            with rio.open(label_path, 'w', **meta) as dst:\n",
    "                dst.write(label)\n",
    "        except ValueError as e:\n",
    "            with rio.open(band_2_path) as rockless:\n",
    "                meta = rockless.meta.copy()\n",
    "                # change shape here to 3d array (width, height, 1). Then dst.write(label) will work for both cases\n",
    "                zero_shape = (meta[\"width\"], meta[\"height\"])\n",
    "            label = np.zeros(zero_shape, np.int8)\n",
    "            \n",
    "            meta['dtype'] = label.dtype\n",
    "            meta['count'] = 1\n",
    "            with rio.open(label_path, 'w', **meta) as dst:\n",
    "                dst.write(label, 1)"
   ]
  },
  {
   "cell_type": "markdown",
   "metadata": {},
   "source": [
    "## Sanity check that rasterization cell worked"
   ]
  },
  {
   "cell_type": "code",
   "execution_count": 39,
   "metadata": {},
   "outputs": [
    {
     "name": "stdout",
     "output_type": "stream",
     "text": [
      "154604\n",
      "172169\n",
      "13618\n",
      "28648\n"
     ]
    }
   ],
   "source": [
    "for i in scene_ids:\n",
    "    label_path = os.path.join(dm.label_dir, i + \"_label.TIF\")\n",
    "    with rio.open(label_path) as label_file:\n",
    "        label = label_file.read(1)\n",
    "    print(np.sum(label))"
   ]
  },
  {
   "cell_type": "markdown",
   "metadata": {},
   "source": [
    "### create band stacks, load labels, break stacks and labels into chunks of (512, 512) pixels"
   ]
  },
  {
   "cell_type": "code",
   "execution_count": 66,
   "metadata": {},
   "outputs": [],
   "source": [
    "for i in scene_ids:\n",
    "    label_path = os.path.join(dm.label_dir, i + \"_label.TIF\")\n",
    "    with rio.open(label_path) as label_file:\n",
    "        label = label_file.read(1)\n",
    "    \n",
    "    band_rasters = []\n",
    "    for b in bands:\n",
    "        band_path = os.path.join(dm.raw_image_dir, i, \"{}_B{}.TIF\".format(i, b))\n",
    "        with rio.open(band_path) as band_file:\n",
    "            band_rasters.append(band_file.read(1))\n",
    "    \n",
    "    band_stack = np.stack(band_rasters, axis=0).transpose(1,2,0)\n",
    "    band_rasters.clear()\n",
    "    \n",
    "    scene_height = band_stack.shape[0]\n",
    "    scene_width = band_stack.shape[1]\n",
    "    \n",
    "    chunk_height = 512\n",
    "    chunk_width = 512\n",
    "    \n",
    "    vertical_chunks = scene_height // chunk_height\n",
    "    horizontal_chunks = scene_width // chunk_width\n",
    "    \n",
    "    scene_chunk_dir = os.path.join(stack_dir, i)\n",
    "    \n",
    "    with FillingSquaresBar('Processing', max=vertical_chunks * horizontal_chunks) as bar:\n",
    "        for j in range(vertical_chunks):\n",
    "            for k in range(horizontal_chunks):\n",
    "                row_index = j * chunk_height\n",
    "                col_index = k * chunk_width\n",
    "                \n",
    "                band_chunk = band_stack[row_index: row_index + chunk_height, col_index: col_index + chunk_width, :]\n",
    "                label_chunk = label[row_index: row_index + chunk_height, col_index: col_index + chunk_width]\n",
    "                \n",
    "                data_pixels = np.where(band_chunk > 0)\n",
    "                data_pixel_count = np.sum(data_pixels)\n",
    "                \n",
    "                band_chunk_path = os.path.join(scene_chunk_dir, \"chunk_{}_{}.npy\".format(j, k))\n",
    "                label_chunk_path = os.path.join(scene_chunk_dir, \"chunk_{}_{}_label.npy\".format(j, k))\n",
    "                \n",
    "                if data_pixel_count > 0:\n",
    "                    np.save(band_chunk_path, band_chunk, allow_pickle=True)\n",
    "                    np.save(label_chunk_path, label_chunk, allow_pickle=True)\n",
    "                bar.next()"
   ]
  },
  {
   "cell_type": "markdown",
   "metadata": {},
   "source": [
    "## Sanity check that stacking and chunking worked"
   ]
  },
  {
   "cell_type": "code",
   "execution_count": 67,
   "metadata": {},
   "outputs": [
    {
     "name": "stdout",
     "output_type": "stream",
     "text": [
      "['chunk_10_12.npy', 'chunk_3_10.npy', 'chunk_4_4_label.npy', 'chunk_8_1_label.npy', 'chunk_10_2.npy', 'chunk_8_15.npy', 'chunk_4_5_label.npy', 'chunk_7_6_label.npy', 'chunk_5_0.npy', 'chunk_5_9_label.npy', 'chunk_9_9.npy', 'chunk_3_4.npy', 'chunk_7_0.npy', 'chunk_5_2_label.npy', 'chunk_4_6.npy', 'chunk_7_1_label.npy', 'chunk_5_10.npy', 'chunk_6_7_label.npy', 'chunk_8_11.npy', 'chunk_13_6_label.npy', 'chunk_5_6.npy', 'chunk_0_10.npy', 'chunk_1_10_label.npy', 'chunk_10_5_label.npy', 'chunk_8_5_label.npy', 'chunk_14_7.npy', 'chunk_5_5_label.npy', 'chunk_11_4.npy', 'chunk_8_10_label.npy', 'chunk_4_10.npy', 'chunk_7_8.npy', 'chunk_8_2.npy', 'chunk_6_1_label.npy', 'chunk_4_9_label.npy', 'chunk_7_12_label.npy', 'chunk_12_6_label.npy', 'chunk_7_14_label.npy', 'chunk_6_11.npy', 'chunk_11_5_label.npy', 'chunk_10_8.npy', 'chunk_5_1.npy', 'chunk_13_3_label.npy', 'chunk_9_2.npy', 'chunk_6_12_label.npy', 'chunk_6_10_label.npy', 'chunk_1_8.npy', 'chunk_13_5_label.npy', 'chunk_5_1_label.npy', 'chunk_9_2_label.npy', 'chunk_5_4.npy', 'chunk_10_14_label.npy', 'chunk_9_10.npy', 'chunk_7_9.npy', 'chunk_3_10_label.npy', 'chunk_13_10_label.npy', 'chunk_10_13_label.npy', 'chunk_15_7_label.npy', 'chunk_14_6_label.npy', 'chunk_10_15.npy', 'chunk_10_14.npy', 'chunk_9_14.npy', 'chunk_3_12.npy', 'chunk_2_9_label.npy', 'chunk_6_6.npy', 'chunk_6_2.npy', 'chunk_14_8_label.npy', 'chunk_14_10_label.npy', 'chunk_1_10.npy', 'chunk_12_12_label.npy', 'chunk_11_15_label.npy', 'chunk_3_6_label.npy', 'chunk_7_13_label.npy', 'chunk_9_4_label.npy', 'chunk_8_6_label.npy', 'chunk_4_8_label.npy', 'chunk_8_1.npy', 'chunk_12_7_label.npy', 'chunk_9_8_label.npy', 'chunk_8_10.npy', 'chunk_8_3.npy', 'chunk_3_9_label.npy', 'chunk_0_10_label.npy', 'chunk_4_3.npy', 'chunk_3_7.npy', 'chunk_1_7.npy', 'chunk_8_6.npy', 'chunk_2_6_label.npy', 'chunk_5_0_label.npy', 'chunk_4_11.npy', 'chunk_6_0.npy', 'chunk_11_14.npy', 'chunk_12_13.npy', 'chunk_10_15_label.npy', 'chunk_9_6_label.npy', 'chunk_4_12_label.npy', 'chunk_10_4.npy', 'chunk_9_1_label.npy', 'chunk_8_2_label.npy', 'chunk_9_12.npy', 'chunk_7_7_label.npy', 'chunk_7_0_label.npy', 'chunk_5_14_label.npy', 'chunk_4_11_label.npy', 'chunk_13_12_label.npy', 'chunk_9_14_label.npy', 'chunk_11_11_label.npy', 'chunk_10_9_label.npy', 'chunk_7_10_label.npy', 'chunk_7_13.npy', 'chunk_8_9_label.npy', 'chunk_7_11_label.npy', 'chunk_10_5.npy', 'chunk_10_4_label.npy', 'chunk_9_4.npy', 'chunk_12_3_label.npy', 'chunk_2_11_label.npy', 'chunk_3_11.npy', 'chunk_1_7_label.npy', 'chunk_12_4_label.npy', 'chunk_7_5_label.npy', 'chunk_9_8.npy', 'chunk_10_6_label.npy', 'chunk_3_5_label.npy', 'chunk_10_13.npy', 'chunk_2_11.npy', 'chunk_12_6.npy', 'chunk_2_12.npy', 'chunk_14_10.npy', 'chunk_5_4_label.npy', 'chunk_15_4_label.npy', 'chunk_8_8.npy', 'chunk_8_7_label.npy', 'chunk_11_10.npy', 'chunk_2_9.npy', 'chunk_5_12_label.npy', 'chunk_7_6.npy', 'chunk_2_8.npy', 'chunk_11_12_label.npy', 'chunk_4_7.npy', 'chunk_7_15.npy', 'chunk_15_7.npy', 'chunk_1_9.npy', 'chunk_2_10_label.npy', 'chunk_6_9_label.npy', 'chunk_8_12_label.npy', 'chunk_3_3.npy', 'chunk_12_5_label.npy', 'chunk_15_8.npy', 'chunk_5_14.npy', 'chunk_6_12.npy', 'chunk_5_2.npy', 'chunk_3_11_label.npy', 'chunk_15_8_label.npy', 'chunk_3_8_label.npy', 'chunk_10_2_label.npy', 'chunk_8_5.npy', 'chunk_6_7.npy', 'chunk_1_12_label.npy', 'chunk_6_4.npy', 'chunk_13_12.npy', 'chunk_13_5.npy', 'chunk_11_9_label.npy', 'chunk_6_13.npy', 'chunk_2_7.npy', 'chunk_4_9.npy', 'chunk_13_13_label.npy', 'chunk_6_0_label.npy', 'chunk_4_4.npy', 'chunk_4_10_label.npy', 'chunk_14_9_label.npy', 'chunk_9_11.npy', 'chunk_6_5_label.npy', 'chunk_13_4.npy', 'chunk_6_8.npy', 'chunk_3_6.npy', 'chunk_4_1.npy', 'chunk_12_8_label.npy', 'chunk_11_3_label.npy', 'chunk_13_9_label.npy', 'chunk_2_5.npy', 'chunk_3_13_label.npy', 'chunk_15_5.npy', 'chunk_7_2_label.npy', 'chunk_14_5.npy', 'chunk_8_13_label.npy', 'chunk_11_2.npy', 'chunk_12_12.npy', 'chunk_3_3_label.npy', 'chunk_5_8_label.npy', 'chunk_10_6.npy', 'chunk_1_11.npy', 'chunk_12_11.npy', 'chunk_6_8_label.npy', 'chunk_11_6_label.npy', 'chunk_6_11_label.npy', 'chunk_12_14.npy', 'chunk_10_7.npy', 'chunk_11_10_label.npy', 'chunk_6_3_label.npy', 'chunk_12_10.npy', 'chunk_11_15.npy', 'chunk_7_2.npy', 'chunk_11_14_label.npy', 'chunk_5_6_label.npy', 'chunk_14_8.npy', 'chunk_9_13.npy', 'chunk_8_4_label.npy', 'chunk_5_9.npy', 'chunk_12_15.npy', 'chunk_14_4_label.npy', 'chunk_12_13_label.npy', 'chunk_0_11_label.npy', 'chunk_11_13_label.npy', 'chunk_8_11_label.npy', 'chunk_5_13.npy', 'chunk_11_11.npy', 'chunk_10_7_label.npy', 'chunk_4_5.npy', 'chunk_13_6.npy', 'chunk_8_3_label.npy', 'chunk_10_10.npy', 'chunk_3_7_label.npy', 'chunk_14_6.npy', 'chunk_7_4.npy', 'chunk_4_1_label.npy', 'chunk_8_15_label.npy', 'chunk_13_8_label.npy', 'chunk_6_3.npy', 'chunk_10_8_label.npy', 'chunk_11_5.npy', 'chunk_9_15_label.npy', 'chunk_11_6.npy', 'chunk_4_2_label.npy', 'chunk_15_9.npy', 'chunk_6_5.npy', 'chunk_12_14_label.npy', 'chunk_0_11.npy', 'chunk_8_12.npy', 'chunk_12_9.npy', 'chunk_7_3.npy', 'chunk_9_7_label.npy', 'chunk_15_6.npy', 'chunk_8_8_label.npy', 'chunk_3_5.npy', 'chunk_6_9.npy', 'chunk_8_14.npy', 'chunk_7_14.npy', 'chunk_4_13_label.npy', 'chunk_15_6_label.npy', 'chunk_12_15_label.npy', 'chunk_9_13_label.npy', 'chunk_5_5.npy', 'chunk_10_10_label.npy', 'chunk_4_13.npy', 'chunk_11_7.npy', 'chunk_8_9.npy', 'chunk_13_7.npy', 'chunk_2_6.npy', 'chunk_8_4.npy', 'chunk_11_2_label.npy', 'chunk_8_14_label.npy', 'chunk_6_1.npy', 'chunk_5_3.npy', 'chunk_5_7_label.npy', 'chunk_13_10.npy', 'chunk_9_3.npy', 'chunk_9_6.npy', 'chunk_4_6_label.npy', 'chunk_5_11_label.npy', 'chunk_8_13.npy', 'chunk_10_9.npy', 'chunk_12_5.npy', 'chunk_12_7.npy', 'chunk_13_7_label.npy', 'chunk_7_7.npy', 'chunk_11_3.npy', 'chunk_13_4_label.npy', 'chunk_12_11_label.npy', 'chunk_5_8.npy', 'chunk_7_5.npy', 'chunk_9_9_label.npy', 'chunk_2_5_label.npy', 'chunk_6_2_label.npy', 'chunk_9_12_label.npy', 'chunk_8_7.npy', 'chunk_14_7_label.npy', 'chunk_11_8.npy', 'chunk_10_11.npy', 'chunk_10_3.npy', 'chunk_6_14.npy', 'chunk_11_8_label.npy', 'chunk_9_11_label.npy', 'chunk_7_4_label.npy', 'chunk_3_12_label.npy', 'chunk_3_9.npy', 'chunk_4_7_label.npy', 'chunk_7_12.npy', 'chunk_4_8.npy', 'chunk_7_10.npy', 'chunk_11_12.npy', 'chunk_2_7_label.npy', 'chunk_12_9_label.npy', 'chunk_0_9_label.npy', 'chunk_5_12.npy', 'chunk_5_11.npy', 'chunk_11_13.npy', 'chunk_5_10_label.npy', 'chunk_1_11_label.npy', 'chunk_13_13.npy', 'chunk_13_11_label.npy', 'chunk_4_3_label.npy', 'chunk_11_7_label.npy', 'chunk_6_10.npy', 'chunk_12_8.npy', 'chunk_2_12_label.npy', 'chunk_7_1.npy', 'chunk_7_9_label.npy', 'chunk_12_3.npy', 'chunk_6_13_label.npy', 'chunk_5_7.npy', 'chunk_14_9.npy', 'chunk_2_10.npy', 'chunk_10_11_label.npy', 'chunk_9_5.npy', 'chunk_7_15_label.npy', 'chunk_13_11.npy', 'chunk_10_3_label.npy', 'chunk_9_10_label.npy', 'chunk_14_5_label.npy', 'chunk_15_5_label.npy', 'chunk_11_9.npy', 'chunk_13_3.npy', 'chunk_13_8.npy', 'chunk_13_9.npy', 'chunk_6_14_label.npy', 'chunk_4_12.npy', 'chunk_10_12_label.npy', 'chunk_1_12.npy', 'chunk_12_10_label.npy', 'chunk_9_1.npy', 'chunk_1_8_label.npy', 'chunk_3_8.npy', 'chunk_9_15.npy', 'chunk_9_7.npy', 'chunk_7_8_label.npy', 'chunk_7_11.npy', 'chunk_15_9_label.npy', 'chunk_11_4_label.npy', 'chunk_9_5_label.npy', 'chunk_4_2.npy', 'chunk_1_9_label.npy', 'chunk_3_4_label.npy', 'chunk_14_4.npy', 'chunk_12_4.npy', 'chunk_2_8_label.npy', 'chunk_9_3_label.npy', 'chunk_5_3_label.npy', 'chunk_5_13_label.npy', 'chunk_3_13.npy', 'chunk_7_3_label.npy', 'chunk_6_4_label.npy', 'chunk_0_9.npy', 'chunk_14_11_label.npy', 'chunk_14_11.npy', 'chunk_6_6_label.npy', 'chunk_15_4.npy']\n",
      "['chunk_10_12.npy', 'chunk_3_10.npy', 'chunk_4_4_label.npy', 'chunk_8_1_label.npy', 'chunk_10_2.npy', 'chunk_8_15.npy', 'chunk_4_5_label.npy', 'chunk_7_6_label.npy', 'chunk_5_0.npy', 'chunk_5_9_label.npy', 'chunk_9_9.npy', 'chunk_3_4.npy', 'chunk_7_0.npy', 'chunk_5_2_label.npy', 'chunk_4_6.npy', 'chunk_7_1_label.npy', 'chunk_8_16_label.npy', 'chunk_5_10.npy', 'chunk_6_7_label.npy', 'chunk_8_11.npy', 'chunk_13_6_label.npy', 'chunk_5_6.npy', 'chunk_10_16.npy', 'chunk_0_10.npy', 'chunk_1_10_label.npy', 'chunk_10_5_label.npy', 'chunk_8_5_label.npy', 'chunk_14_7.npy', 'chunk_5_5_label.npy', 'chunk_11_4.npy', 'chunk_8_10_label.npy', 'chunk_4_10.npy', 'chunk_7_8.npy', 'chunk_8_2.npy', 'chunk_6_1_label.npy', 'chunk_4_9_label.npy', 'chunk_7_12_label.npy', 'chunk_12_6_label.npy', 'chunk_7_14_label.npy', 'chunk_6_11.npy', 'chunk_11_5_label.npy', 'chunk_10_8.npy', 'chunk_5_1.npy', 'chunk_13_3_label.npy', 'chunk_9_2.npy', 'chunk_6_12_label.npy', 'chunk_6_10_label.npy', 'chunk_1_8.npy', 'chunk_13_5_label.npy', 'chunk_5_1_label.npy', 'chunk_9_2_label.npy', 'chunk_5_4.npy', 'chunk_10_14_label.npy', 'chunk_9_10.npy', 'chunk_7_9.npy', 'chunk_3_10_label.npy', 'chunk_13_10_label.npy', 'chunk_10_13_label.npy', 'chunk_15_7_label.npy', 'chunk_14_6_label.npy', 'chunk_10_15.npy', 'chunk_10_14.npy', 'chunk_9_14.npy', 'chunk_3_12.npy', 'chunk_2_9_label.npy', 'chunk_6_6.npy', 'chunk_6_2.npy', 'chunk_14_8_label.npy', 'chunk_14_10_label.npy', 'chunk_1_10.npy', 'chunk_12_12_label.npy', 'chunk_11_15_label.npy', 'chunk_3_6_label.npy', 'chunk_7_13_label.npy', 'chunk_9_4_label.npy', 'chunk_8_6_label.npy', 'chunk_4_8_label.npy', 'chunk_8_1.npy', 'chunk_12_7_label.npy', 'chunk_9_8_label.npy', 'chunk_8_10.npy', 'chunk_8_3.npy', 'chunk_3_9_label.npy', 'chunk_0_10_label.npy', 'chunk_4_3.npy', 'chunk_3_7.npy', 'chunk_1_7.npy', 'chunk_8_6.npy', 'chunk_2_6_label.npy', 'chunk_5_0_label.npy', 'chunk_4_11.npy', 'chunk_6_0.npy', 'chunk_11_14.npy', 'chunk_12_13.npy', 'chunk_10_15_label.npy', 'chunk_9_6_label.npy', 'chunk_4_12_label.npy', 'chunk_10_4.npy', 'chunk_9_1_label.npy', 'chunk_8_2_label.npy', 'chunk_9_12.npy', 'chunk_7_7_label.npy', 'chunk_7_0_label.npy', 'chunk_5_14_label.npy', 'chunk_4_11_label.npy', 'chunk_13_12_label.npy', 'chunk_9_14_label.npy', 'chunk_11_11_label.npy', 'chunk_10_9_label.npy', 'chunk_7_10_label.npy', 'chunk_7_13.npy', 'chunk_8_9_label.npy', 'chunk_7_11_label.npy', 'chunk_10_5.npy', 'chunk_10_4_label.npy', 'chunk_9_4.npy', 'chunk_12_3_label.npy', 'chunk_2_11_label.npy', 'chunk_3_11.npy', 'chunk_16_5_label.npy', 'chunk_1_7_label.npy', 'chunk_12_4_label.npy', 'chunk_7_5_label.npy', 'chunk_9_8.npy', 'chunk_10_6_label.npy', 'chunk_10_16_label.npy', 'chunk_9_16.npy', 'chunk_3_5_label.npy', 'chunk_10_13.npy', 'chunk_16_8.npy', 'chunk_2_11.npy', 'chunk_12_6.npy', 'chunk_11_16.npy', 'chunk_2_12.npy', 'chunk_14_10.npy', 'chunk_5_4_label.npy', 'chunk_8_8.npy', 'chunk_8_7_label.npy', 'chunk_11_10.npy', 'chunk_2_9.npy', 'chunk_5_12_label.npy', 'chunk_7_6.npy', 'chunk_2_8.npy', 'chunk_11_12_label.npy', 'chunk_4_7.npy', 'chunk_7_15.npy', 'chunk_15_7.npy', 'chunk_1_9.npy', 'chunk_2_10_label.npy', 'chunk_6_9_label.npy', 'chunk_8_12_label.npy', 'chunk_12_5_label.npy', 'chunk_15_8.npy', 'chunk_5_14.npy', 'chunk_6_12.npy', 'chunk_6_15_label.npy', 'chunk_5_2.npy', 'chunk_3_11_label.npy', 'chunk_15_8_label.npy', 'chunk_16_7.npy', 'chunk_3_8_label.npy', 'chunk_10_2_label.npy', 'chunk_8_5.npy', 'chunk_6_7.npy', 'chunk_1_12_label.npy', 'chunk_6_4.npy', 'chunk_13_12.npy', 'chunk_13_5.npy', 'chunk_11_9_label.npy', 'chunk_6_13.npy', 'chunk_2_7.npy', 'chunk_4_9.npy', 'chunk_13_13_label.npy', 'chunk_6_0_label.npy', 'chunk_4_4.npy', 'chunk_4_10_label.npy', 'chunk_14_9_label.npy', 'chunk_9_11.npy', 'chunk_6_5_label.npy', 'chunk_13_4.npy', 'chunk_16_8_label.npy', 'chunk_6_8.npy', 'chunk_3_6.npy', 'chunk_12_8_label.npy', 'chunk_11_3_label.npy', 'chunk_13_9_label.npy', 'chunk_2_5.npy', 'chunk_3_13_label.npy', 'chunk_15_5.npy', 'chunk_7_2_label.npy', 'chunk_14_5.npy', 'chunk_8_13_label.npy', 'chunk_11_2.npy', 'chunk_12_12.npy', 'chunk_5_8_label.npy', 'chunk_10_6.npy', 'chunk_1_11.npy', 'chunk_12_11.npy', 'chunk_6_8_label.npy', 'chunk_11_6_label.npy', 'chunk_6_11_label.npy', 'chunk_12_14.npy', 'chunk_10_7.npy', 'chunk_8_16.npy', 'chunk_11_10_label.npy', 'chunk_6_3_label.npy', 'chunk_12_10.npy', 'chunk_11_15.npy', 'chunk_7_2.npy', 'chunk_11_14_label.npy', 'chunk_5_6_label.npy', 'chunk_14_8.npy', 'chunk_9_13.npy', 'chunk_8_4_label.npy', 'chunk_5_9.npy', 'chunk_14_4_label.npy', 'chunk_12_13_label.npy', 'chunk_0_11_label.npy', 'chunk_11_13_label.npy', 'chunk_8_11_label.npy', 'chunk_5_13.npy', 'chunk_9_16_label.npy', 'chunk_11_11.npy', 'chunk_10_7_label.npy', 'chunk_4_5.npy', 'chunk_13_6.npy', 'chunk_8_3_label.npy', 'chunk_10_10.npy', 'chunk_3_7_label.npy', 'chunk_14_6.npy', 'chunk_7_4.npy', 'chunk_8_15_label.npy', 'chunk_13_8_label.npy', 'chunk_6_3.npy', 'chunk_10_8_label.npy', 'chunk_11_5.npy', 'chunk_9_15_label.npy', 'chunk_11_6.npy', 'chunk_4_2_label.npy', 'chunk_15_9.npy', 'chunk_6_5.npy', 'chunk_12_14_label.npy', 'chunk_0_11.npy', 'chunk_8_12.npy', 'chunk_12_9.npy', 'chunk_6_15.npy', 'chunk_7_3.npy', 'chunk_9_7_label.npy', 'chunk_15_6.npy', 'chunk_8_8_label.npy', 'chunk_3_5.npy', 'chunk_6_9.npy', 'chunk_8_14.npy', 'chunk_7_14.npy', 'chunk_4_13_label.npy', 'chunk_15_6_label.npy', 'chunk_9_13_label.npy', 'chunk_5_5.npy', 'chunk_10_10_label.npy', 'chunk_4_13.npy', 'chunk_11_7.npy', 'chunk_8_9.npy', 'chunk_13_7.npy', 'chunk_16_7_label.npy', 'chunk_2_6.npy', 'chunk_8_4.npy', 'chunk_11_2_label.npy', 'chunk_8_14_label.npy', 'chunk_16_6_label.npy', 'chunk_6_1.npy', 'chunk_5_3.npy', 'chunk_5_7_label.npy', 'chunk_13_10.npy', 'chunk_9_3.npy', 'chunk_9_6.npy', 'chunk_4_6_label.npy', 'chunk_5_11_label.npy', 'chunk_8_13.npy', 'chunk_10_9.npy', 'chunk_12_5.npy', 'chunk_12_7.npy', 'chunk_13_7_label.npy', 'chunk_7_7.npy', 'chunk_11_3.npy', 'chunk_13_4_label.npy', 'chunk_16_5.npy', 'chunk_12_11_label.npy', 'chunk_5_8.npy', 'chunk_7_5.npy', 'chunk_9_9_label.npy', 'chunk_8_0_label.npy', 'chunk_2_5_label.npy', 'chunk_6_2_label.npy', 'chunk_9_12_label.npy', 'chunk_8_7.npy', 'chunk_14_7_label.npy', 'chunk_11_8.npy', 'chunk_10_11.npy', 'chunk_10_3.npy', 'chunk_6_14.npy', 'chunk_11_16_label.npy', 'chunk_11_8_label.npy', 'chunk_9_11_label.npy', 'chunk_7_4_label.npy', 'chunk_3_12_label.npy', 'chunk_3_9.npy', 'chunk_4_7_label.npy', 'chunk_7_12.npy', 'chunk_4_8.npy', 'chunk_7_10.npy', 'chunk_11_12.npy', 'chunk_2_7_label.npy', 'chunk_12_9_label.npy', 'chunk_0_9_label.npy', 'chunk_5_12.npy', 'chunk_5_11.npy', 'chunk_11_13.npy', 'chunk_5_10_label.npy', 'chunk_1_11_label.npy', 'chunk_13_13.npy', 'chunk_13_11_label.npy', 'chunk_4_3_label.npy', 'chunk_11_7_label.npy', 'chunk_6_10.npy', 'chunk_12_8.npy', 'chunk_2_12_label.npy', 'chunk_7_1.npy', 'chunk_7_9_label.npy', 'chunk_12_3.npy', 'chunk_6_13_label.npy', 'chunk_5_7.npy', 'chunk_14_9.npy', 'chunk_2_10.npy', 'chunk_10_11_label.npy', 'chunk_9_5.npy', 'chunk_7_15_label.npy', 'chunk_13_11.npy', 'chunk_16_6.npy', 'chunk_10_3_label.npy', 'chunk_9_10_label.npy', 'chunk_14_5_label.npy', 'chunk_15_5_label.npy', 'chunk_11_9.npy', 'chunk_13_3.npy', 'chunk_13_8.npy', 'chunk_13_9.npy', 'chunk_6_14_label.npy', 'chunk_4_12.npy', 'chunk_10_12_label.npy', 'chunk_1_12.npy', 'chunk_12_10_label.npy', 'chunk_9_1.npy', 'chunk_1_8_label.npy', 'chunk_3_8.npy', 'chunk_9_15.npy', 'chunk_9_7.npy', 'chunk_7_8_label.npy', 'chunk_7_11.npy', 'chunk_15_9_label.npy', 'chunk_11_4_label.npy', 'chunk_9_5_label.npy', 'chunk_4_2.npy', 'chunk_1_9_label.npy', 'chunk_3_4_label.npy', 'chunk_14_4.npy', 'chunk_12_4.npy', 'chunk_2_8_label.npy', 'chunk_9_3_label.npy', 'chunk_5_3_label.npy', 'chunk_5_13_label.npy', 'chunk_3_13.npy', 'chunk_7_3_label.npy', 'chunk_6_4_label.npy', 'chunk_0_9.npy', 'chunk_14_11_label.npy', 'chunk_14_11.npy', 'chunk_8_0.npy', 'chunk_6_6_label.npy']\n",
      "['chunk_10_12.npy', 'chunk_3_10.npy', 'chunk_4_4_label.npy', 'chunk_8_1_label.npy', 'chunk_10_2.npy', 'chunk_8_15.npy', 'chunk_10_1.npy', 'chunk_7_16.npy', 'chunk_4_5_label.npy', 'chunk_7_6_label.npy', 'chunk_5_9_label.npy', 'chunk_9_9.npy', 'chunk_3_4.npy', 'chunk_7_0.npy', 'chunk_5_2_label.npy', 'chunk_4_6.npy', 'chunk_7_1_label.npy', 'chunk_8_16_label.npy', 'chunk_5_10.npy', 'chunk_6_7_label.npy', 'chunk_8_11.npy', 'chunk_13_6_label.npy', 'chunk_5_6.npy', 'chunk_10_16.npy', 'chunk_0_10.npy', 'chunk_1_10_label.npy', 'chunk_10_5_label.npy', 'chunk_8_5_label.npy', 'chunk_14_7.npy', 'chunk_5_5_label.npy', 'chunk_11_4.npy', 'chunk_8_10_label.npy', 'chunk_4_10.npy', 'chunk_7_8.npy', 'chunk_8_2.npy', 'chunk_6_1_label.npy', 'chunk_4_9_label.npy', 'chunk_7_12_label.npy', 'chunk_12_6_label.npy', 'chunk_7_14_label.npy', 'chunk_6_11.npy', 'chunk_11_5_label.npy', 'chunk_10_8.npy', 'chunk_5_1.npy', 'chunk_9_2.npy', 'chunk_6_12_label.npy', 'chunk_6_10_label.npy', 'chunk_1_8.npy', 'chunk_13_5_label.npy', 'chunk_5_1_label.npy', 'chunk_9_2_label.npy', 'chunk_5_4.npy', 'chunk_10_14_label.npy', 'chunk_9_10.npy', 'chunk_7_9.npy', 'chunk_3_10_label.npy', 'chunk_13_10_label.npy', 'chunk_10_13_label.npy', 'chunk_15_7_label.npy', 'chunk_14_6_label.npy', 'chunk_10_15.npy', 'chunk_10_14.npy', 'chunk_9_14.npy', 'chunk_3_12.npy', 'chunk_2_9_label.npy', 'chunk_6_6.npy', 'chunk_6_2.npy', 'chunk_14_8_label.npy', 'chunk_14_10_label.npy', 'chunk_1_10.npy', 'chunk_12_12_label.npy', 'chunk_11_15_label.npy', 'chunk_3_6_label.npy', 'chunk_16_9_label.npy', 'chunk_7_13_label.npy', 'chunk_9_4_label.npy', 'chunk_8_6_label.npy', 'chunk_4_8_label.npy', 'chunk_14_12.npy', 'chunk_8_1.npy', 'chunk_12_7_label.npy', 'chunk_9_8_label.npy', 'chunk_8_10.npy', 'chunk_8_3.npy', 'chunk_3_9_label.npy', 'chunk_0_10_label.npy', 'chunk_4_3.npy', 'chunk_3_7.npy', 'chunk_7_16_label.npy', 'chunk_1_7.npy', 'chunk_8_6.npy', 'chunk_2_6_label.npy', 'chunk_4_11.npy', 'chunk_15_10.npy', 'chunk_6_0.npy', 'chunk_11_14.npy', 'chunk_12_13.npy', 'chunk_10_15_label.npy', 'chunk_9_6_label.npy', 'chunk_4_12_label.npy', 'chunk_10_1_label.npy', 'chunk_10_4.npy', 'chunk_9_1_label.npy', 'chunk_8_2_label.npy', 'chunk_9_12.npy', 'chunk_7_7_label.npy', 'chunk_7_0_label.npy', 'chunk_5_14_label.npy', 'chunk_4_11_label.npy', 'chunk_13_12_label.npy', 'chunk_9_14_label.npy', 'chunk_11_11_label.npy', 'chunk_10_9_label.npy', 'chunk_7_10_label.npy', 'chunk_7_13.npy', 'chunk_8_9_label.npy', 'chunk_7_11_label.npy', 'chunk_10_5.npy', 'chunk_10_4_label.npy', 'chunk_9_4.npy', 'chunk_12_3_label.npy', 'chunk_2_11_label.npy', 'chunk_3_11.npy', 'chunk_1_7_label.npy', 'chunk_12_4_label.npy', 'chunk_7_5_label.npy', 'chunk_9_8.npy', 'chunk_10_6_label.npy', 'chunk_10_16_label.npy', 'chunk_9_16.npy', 'chunk_3_5_label.npy', 'chunk_10_13.npy', 'chunk_16_8.npy', 'chunk_2_11.npy', 'chunk_12_6.npy', 'chunk_11_16.npy', 'chunk_2_12.npy', 'chunk_14_10.npy', 'chunk_5_4_label.npy', 'chunk_8_8.npy', 'chunk_8_7_label.npy', 'chunk_11_10.npy', 'chunk_2_9.npy', 'chunk_5_12_label.npy', 'chunk_7_6.npy', 'chunk_2_8.npy', 'chunk_11_12_label.npy', 'chunk_4_7.npy', 'chunk_7_15.npy', 'chunk_15_7.npy', 'chunk_1_9.npy', 'chunk_2_10_label.npy', 'chunk_6_9_label.npy', 'chunk_8_12_label.npy', 'chunk_12_5_label.npy', 'chunk_15_8.npy', 'chunk_5_14.npy', 'chunk_6_12.npy', 'chunk_6_15_label.npy', 'chunk_5_2.npy', 'chunk_3_11_label.npy', 'chunk_15_8_label.npy', 'chunk_16_7.npy', 'chunk_3_8_label.npy', 'chunk_10_2_label.npy', 'chunk_8_5.npy', 'chunk_6_7.npy', 'chunk_6_4.npy', 'chunk_13_12.npy', 'chunk_13_5.npy', 'chunk_11_9_label.npy', 'chunk_6_13.npy', 'chunk_2_7.npy', 'chunk_4_9.npy', 'chunk_13_13_label.npy', 'chunk_6_0_label.npy', 'chunk_4_4.npy', 'chunk_4_10_label.npy', 'chunk_14_9_label.npy', 'chunk_14_12_label.npy', 'chunk_9_11.npy', 'chunk_6_5_label.npy', 'chunk_13_4.npy', 'chunk_16_8_label.npy', 'chunk_6_8.npy', 'chunk_3_6.npy', 'chunk_12_8_label.npy', 'chunk_11_3_label.npy', 'chunk_13_9_label.npy', 'chunk_3_13_label.npy', 'chunk_15_5.npy', 'chunk_7_2_label.npy', 'chunk_14_5.npy', 'chunk_8_13_label.npy', 'chunk_11_2.npy', 'chunk_12_12.npy', 'chunk_5_8_label.npy', 'chunk_10_6.npy', 'chunk_1_11.npy', 'chunk_12_11.npy', 'chunk_6_8_label.npy', 'chunk_11_6_label.npy', 'chunk_6_11_label.npy', 'chunk_12_14.npy', 'chunk_10_7.npy', 'chunk_8_16.npy', 'chunk_11_10_label.npy', 'chunk_6_3_label.npy', 'chunk_12_10.npy', 'chunk_11_15.npy', 'chunk_7_2.npy', 'chunk_11_14_label.npy', 'chunk_5_6_label.npy', 'chunk_14_8.npy', 'chunk_9_13.npy', 'chunk_8_4_label.npy', 'chunk_5_9.npy', 'chunk_12_15.npy', 'chunk_14_4_label.npy', 'chunk_12_13_label.npy', 'chunk_0_11_label.npy', 'chunk_11_13_label.npy', 'chunk_8_11_label.npy', 'chunk_5_13.npy', 'chunk_9_16_label.npy', 'chunk_11_11.npy', 'chunk_10_7_label.npy', 'chunk_4_5.npy', 'chunk_13_6.npy', 'chunk_8_3_label.npy', 'chunk_10_10.npy', 'chunk_3_7_label.npy', 'chunk_14_6.npy', 'chunk_7_4.npy', 'chunk_8_15_label.npy', 'chunk_13_8_label.npy', 'chunk_6_3.npy', 'chunk_10_8_label.npy', 'chunk_11_5.npy', 'chunk_9_15_label.npy', 'chunk_11_6.npy', 'chunk_0_8_label.npy', 'chunk_15_9.npy', 'chunk_6_5.npy', 'chunk_12_14_label.npy', 'chunk_0_11.npy', 'chunk_8_12.npy', 'chunk_12_9.npy', 'chunk_6_15.npy', 'chunk_7_3.npy', 'chunk_0_8.npy', 'chunk_9_7_label.npy', 'chunk_15_6.npy', 'chunk_8_8_label.npy', 'chunk_3_5.npy', 'chunk_6_9.npy', 'chunk_8_14.npy', 'chunk_7_14.npy', 'chunk_4_13_label.npy', 'chunk_15_6_label.npy', 'chunk_12_15_label.npy', 'chunk_9_13_label.npy', 'chunk_5_5.npy', 'chunk_16_9.npy', 'chunk_10_10_label.npy', 'chunk_4_13.npy', 'chunk_11_7.npy', 'chunk_8_9.npy', 'chunk_13_7.npy', 'chunk_16_7_label.npy', 'chunk_2_6.npy', 'chunk_8_4.npy', 'chunk_11_2_label.npy', 'chunk_8_14_label.npy', 'chunk_16_6_label.npy', 'chunk_6_1.npy', 'chunk_5_3.npy', 'chunk_5_7_label.npy', 'chunk_13_10.npy', 'chunk_9_3.npy', 'chunk_9_6.npy', 'chunk_4_6_label.npy', 'chunk_5_11_label.npy', 'chunk_8_13.npy', 'chunk_10_9.npy', 'chunk_12_5.npy', 'chunk_12_7.npy', 'chunk_13_7_label.npy', 'chunk_7_7.npy', 'chunk_11_3.npy', 'chunk_13_4_label.npy', 'chunk_12_11_label.npy', 'chunk_5_8.npy', 'chunk_7_5.npy', 'chunk_9_9_label.npy', 'chunk_8_0_label.npy', 'chunk_6_2_label.npy', 'chunk_9_12_label.npy', 'chunk_8_7.npy', 'chunk_14_7_label.npy', 'chunk_11_8.npy', 'chunk_10_11.npy', 'chunk_10_3.npy', 'chunk_6_14.npy', 'chunk_11_16_label.npy', 'chunk_11_8_label.npy', 'chunk_9_11_label.npy', 'chunk_7_4_label.npy', 'chunk_3_12_label.npy', 'chunk_3_9.npy', 'chunk_4_7_label.npy', 'chunk_7_12.npy', 'chunk_4_8.npy', 'chunk_7_10.npy', 'chunk_11_12.npy', 'chunk_2_7_label.npy', 'chunk_12_9_label.npy', 'chunk_0_9_label.npy', 'chunk_5_12.npy', 'chunk_5_11.npy', 'chunk_11_13.npy', 'chunk_5_10_label.npy', 'chunk_1_11_label.npy', 'chunk_13_13.npy', 'chunk_13_11_label.npy', 'chunk_4_3_label.npy', 'chunk_11_7_label.npy', 'chunk_6_10.npy', 'chunk_15_10_label.npy', 'chunk_12_8.npy', 'chunk_2_12_label.npy', 'chunk_7_1.npy', 'chunk_7_9_label.npy', 'chunk_12_3.npy', 'chunk_6_13_label.npy', 'chunk_5_7.npy', 'chunk_14_9.npy', 'chunk_2_10.npy', 'chunk_10_11_label.npy', 'chunk_9_5.npy', 'chunk_7_15_label.npy', 'chunk_13_11.npy', 'chunk_16_6.npy', 'chunk_10_3_label.npy', 'chunk_9_10_label.npy', 'chunk_14_5_label.npy', 'chunk_15_5_label.npy', 'chunk_11_9.npy', 'chunk_13_8.npy', 'chunk_13_9.npy', 'chunk_6_14_label.npy', 'chunk_4_12.npy', 'chunk_10_12_label.npy', 'chunk_12_10_label.npy', 'chunk_9_1.npy', 'chunk_1_8_label.npy', 'chunk_3_8.npy', 'chunk_9_15.npy', 'chunk_9_7.npy', 'chunk_7_8_label.npy', 'chunk_7_11.npy', 'chunk_15_9_label.npy', 'chunk_11_4_label.npy', 'chunk_9_5_label.npy', 'chunk_1_9_label.npy', 'chunk_3_4_label.npy', 'chunk_14_4.npy', 'chunk_12_4.npy', 'chunk_2_8_label.npy', 'chunk_9_3_label.npy', 'chunk_5_3_label.npy', 'chunk_5_13_label.npy', 'chunk_3_13.npy', 'chunk_7_3_label.npy', 'chunk_6_4_label.npy', 'chunk_0_9.npy', 'chunk_14_11_label.npy', 'chunk_14_11.npy', 'chunk_8_0.npy', 'chunk_6_6_label.npy']\n",
      "['chunk_10_12.npy', 'chunk_3_10.npy', 'chunk_4_4_label.npy', 'chunk_16_11.npy', 'chunk_8_1_label.npy', 'chunk_10_2.npy', 'chunk_8_15.npy', 'chunk_10_1.npy', 'chunk_7_16.npy', 'chunk_5_15_label.npy', 'chunk_4_5_label.npy', 'chunk_17_8_label.npy', 'chunk_7_6_label.npy', 'chunk_5_9_label.npy', 'chunk_9_9.npy', 'chunk_4_6.npy', 'chunk_9_0.npy', 'chunk_8_17.npy', 'chunk_7_1_label.npy', 'chunk_8_16_label.npy', 'chunk_5_10.npy', 'chunk_6_7_label.npy', 'chunk_8_11.npy', 'chunk_13_6_label.npy', 'chunk_5_6.npy', 'chunk_10_16.npy', 'chunk_0_10.npy', 'chunk_1_10_label.npy', 'chunk_10_5_label.npy', 'chunk_8_5_label.npy', 'chunk_14_7.npy', 'chunk_5_5_label.npy', 'chunk_11_1_label.npy', 'chunk_9_17_label.npy', 'chunk_11_4.npy', 'chunk_8_10_label.npy', 'chunk_4_10.npy', 'chunk_7_8.npy', 'chunk_8_2.npy', 'chunk_4_9_label.npy', 'chunk_7_12_label.npy', 'chunk_12_6_label.npy', 'chunk_7_14_label.npy', 'chunk_6_11.npy', 'chunk_11_5_label.npy', 'chunk_10_8.npy', 'chunk_13_3_label.npy', 'chunk_9_2.npy', 'chunk_6_12_label.npy', 'chunk_6_10_label.npy', 'chunk_1_8.npy', 'chunk_13_5_label.npy', 'chunk_9_2_label.npy', 'chunk_12_2.npy', 'chunk_5_4.npy', 'chunk_10_14_label.npy', 'chunk_9_10.npy', 'chunk_7_9.npy', 'chunk_3_10_label.npy', 'chunk_13_10_label.npy', 'chunk_10_13_label.npy', 'chunk_15_7_label.npy', 'chunk_14_6_label.npy', 'chunk_10_15.npy', 'chunk_10_14.npy', 'chunk_9_14.npy', 'chunk_12_2_label.npy', 'chunk_3_12.npy', 'chunk_2_9_label.npy', 'chunk_6_6.npy', 'chunk_6_2.npy', 'chunk_14_8_label.npy', 'chunk_14_10_label.npy', 'chunk_1_10.npy', 'chunk_12_12_label.npy', 'chunk_11_15_label.npy', 'chunk_3_6_label.npy', 'chunk_16_9_label.npy', 'chunk_7_13_label.npy', 'chunk_9_4_label.npy', 'chunk_8_6_label.npy', 'chunk_4_8_label.npy', 'chunk_14_12.npy', 'chunk_8_1.npy', 'chunk_12_7_label.npy', 'chunk_9_8_label.npy', 'chunk_8_10.npy', 'chunk_8_3.npy', 'chunk_11_1.npy', 'chunk_3_9_label.npy', 'chunk_0_10_label.npy', 'chunk_3_7.npy', 'chunk_7_16_label.npy', 'chunk_1_7.npy', 'chunk_8_6.npy', 'chunk_2_6_label.npy', 'chunk_4_11.npy', 'chunk_15_10.npy', 'chunk_11_14.npy', 'chunk_4_14_label.npy', 'chunk_12_13.npy', 'chunk_10_15_label.npy', 'chunk_7_17_label.npy', 'chunk_9_6_label.npy', 'chunk_4_12_label.npy', 'chunk_10_1_label.npy', 'chunk_10_4.npy', 'chunk_9_1_label.npy', 'chunk_8_2_label.npy', 'chunk_9_12.npy', 'chunk_7_7_label.npy', 'chunk_5_14_label.npy', 'chunk_4_11_label.npy', 'chunk_13_12_label.npy', 'chunk_9_14_label.npy', 'chunk_11_11_label.npy', 'chunk_10_9_label.npy', 'chunk_7_10_label.npy', 'chunk_7_13.npy', 'chunk_8_9_label.npy', 'chunk_7_11_label.npy', 'chunk_10_5.npy', 'chunk_10_4_label.npy', 'chunk_9_4.npy', 'chunk_12_3_label.npy', 'chunk_2_11_label.npy', 'chunk_3_11.npy', 'chunk_1_7_label.npy', 'chunk_12_4_label.npy', 'chunk_7_5_label.npy', 'chunk_9_8.npy', 'chunk_10_6_label.npy', 'chunk_10_16_label.npy', 'chunk_9_16.npy', 'chunk_10_0.npy', 'chunk_3_5_label.npy', 'chunk_10_13.npy', 'chunk_16_8.npy', 'chunk_2_11.npy', 'chunk_17_10.npy', 'chunk_12_6.npy', 'chunk_11_16.npy', 'chunk_2_12.npy', 'chunk_14_10.npy', 'chunk_5_4_label.npy', 'chunk_8_8.npy', 'chunk_8_7_label.npy', 'chunk_11_10.npy', 'chunk_2_9.npy', 'chunk_5_12_label.npy', 'chunk_7_6.npy', 'chunk_2_8.npy', 'chunk_11_12_label.npy', 'chunk_4_7.npy', 'chunk_7_15.npy', 'chunk_15_7.npy', 'chunk_1_9.npy', 'chunk_2_10_label.npy', 'chunk_6_9_label.npy', 'chunk_8_12_label.npy', 'chunk_12_5_label.npy', 'chunk_15_8.npy', 'chunk_5_14.npy', 'chunk_6_12.npy', 'chunk_6_15_label.npy', 'chunk_3_11_label.npy', 'chunk_15_8_label.npy', 'chunk_16_7.npy', 'chunk_3_8_label.npy', 'chunk_10_2_label.npy', 'chunk_8_5.npy', 'chunk_6_7.npy', 'chunk_16_11_label.npy', 'chunk_6_4.npy', 'chunk_13_12.npy', 'chunk_13_5.npy', 'chunk_11_9_label.npy', 'chunk_6_13.npy', 'chunk_15_11_label.npy', 'chunk_2_7.npy', 'chunk_4_9.npy', 'chunk_13_13_label.npy', 'chunk_4_4.npy', 'chunk_4_10_label.npy', 'chunk_14_9_label.npy', 'chunk_14_12_label.npy', 'chunk_17_7_label.npy', 'chunk_9_11.npy', 'chunk_6_5_label.npy', 'chunk_13_4.npy', 'chunk_16_8_label.npy', 'chunk_6_8.npy', 'chunk_3_6.npy', 'chunk_12_8_label.npy', 'chunk_11_3_label.npy', 'chunk_13_9_label.npy', 'chunk_3_13_label.npy', 'chunk_14_13_label.npy', 'chunk_15_5.npy', 'chunk_7_2_label.npy', 'chunk_14_5.npy', 'chunk_8_13_label.npy', 'chunk_11_2.npy', 'chunk_12_12.npy', 'chunk_5_8_label.npy', 'chunk_10_6.npy', 'chunk_1_11.npy', 'chunk_12_11.npy', 'chunk_6_8_label.npy', 'chunk_11_6_label.npy', 'chunk_6_11_label.npy', 'chunk_12_14.npy', 'chunk_10_7.npy', 'chunk_8_16.npy', 'chunk_11_10_label.npy', 'chunk_6_3_label.npy', 'chunk_12_10.npy', 'chunk_10_17.npy', 'chunk_11_15.npy', 'chunk_7_2.npy', 'chunk_11_14_label.npy', 'chunk_5_15.npy', 'chunk_5_6_label.npy', 'chunk_14_8.npy', 'chunk_9_13.npy', 'chunk_8_4_label.npy', 'chunk_5_9.npy', 'chunk_12_15.npy', 'chunk_14_4_label.npy', 'chunk_12_13_label.npy', 'chunk_17_10_label.npy', 'chunk_11_13_label.npy', 'chunk_8_11_label.npy', 'chunk_5_13.npy', 'chunk_9_16_label.npy', 'chunk_11_11.npy', 'chunk_10_7_label.npy', 'chunk_16_10_label.npy', 'chunk_4_5.npy', 'chunk_13_6.npy', 'chunk_8_3_label.npy', 'chunk_10_10.npy', 'chunk_3_7_label.npy', 'chunk_14_6.npy', 'chunk_7_4.npy', 'chunk_8_15_label.npy', 'chunk_13_8_label.npy', 'chunk_6_3.npy', 'chunk_10_8_label.npy', 'chunk_11_5.npy', 'chunk_9_15_label.npy', 'chunk_11_6.npy', 'chunk_0_8_label.npy', 'chunk_4_14.npy', 'chunk_15_9.npy', 'chunk_6_5.npy', 'chunk_12_14_label.npy', 'chunk_8_12.npy', 'chunk_17_9.npy', 'chunk_12_9.npy', 'chunk_6_15.npy', 'chunk_7_3.npy', 'chunk_0_8.npy', 'chunk_9_7_label.npy', 'chunk_15_6.npy', 'chunk_17_7.npy', 'chunk_8_8_label.npy', 'chunk_3_5.npy', 'chunk_6_9.npy', 'chunk_8_14.npy', 'chunk_7_14.npy', 'chunk_4_13_label.npy', 'chunk_15_6_label.npy', 'chunk_10_17_label.npy', 'chunk_12_15_label.npy', 'chunk_9_13_label.npy', 'chunk_5_5.npy', 'chunk_16_9.npy', 'chunk_10_10_label.npy', 'chunk_4_13.npy', 'chunk_11_7.npy', 'chunk_8_9.npy', 'chunk_13_7.npy', 'chunk_16_7_label.npy', 'chunk_2_6.npy', 'chunk_8_4.npy', 'chunk_11_2_label.npy', 'chunk_8_14_label.npy', 'chunk_16_6_label.npy', 'chunk_5_3.npy', 'chunk_5_7_label.npy', 'chunk_13_10.npy', 'chunk_9_3.npy', 'chunk_9_6.npy', 'chunk_4_6_label.npy', 'chunk_5_11_label.npy', 'chunk_8_13.npy', 'chunk_10_9.npy', 'chunk_12_5.npy', 'chunk_12_7.npy', 'chunk_13_7_label.npy', 'chunk_7_7.npy', 'chunk_11_3.npy', 'chunk_13_4_label.npy', 'chunk_7_17.npy', 'chunk_12_11_label.npy', 'chunk_5_8.npy', 'chunk_7_5.npy', 'chunk_10_0_label.npy', 'chunk_9_9_label.npy', 'chunk_8_0_label.npy', 'chunk_6_2_label.npy', 'chunk_9_12_label.npy', 'chunk_8_7.npy', 'chunk_14_7_label.npy', 'chunk_11_8.npy', 'chunk_10_11.npy', 'chunk_10_3.npy', 'chunk_8_17_label.npy', 'chunk_6_14.npy', 'chunk_11_16_label.npy', 'chunk_11_8_label.npy', 'chunk_14_13.npy', 'chunk_9_11_label.npy', 'chunk_7_4_label.npy', 'chunk_3_12_label.npy', 'chunk_3_9.npy', 'chunk_4_7_label.npy', 'chunk_7_12.npy', 'chunk_4_8.npy', 'chunk_7_10.npy', 'chunk_11_12.npy', 'chunk_2_7_label.npy', 'chunk_12_9_label.npy', 'chunk_13_14.npy', 'chunk_6_16.npy', 'chunk_0_9_label.npy', 'chunk_5_12.npy', 'chunk_17_8.npy', 'chunk_5_11.npy', 'chunk_11_13.npy', 'chunk_5_10_label.npy', 'chunk_13_14_label.npy', 'chunk_1_11_label.npy', 'chunk_13_13.npy', 'chunk_16_10.npy', 'chunk_13_11_label.npy', 'chunk_11_7_label.npy', 'chunk_6_10.npy', 'chunk_15_10_label.npy', 'chunk_12_8.npy', 'chunk_2_12_label.npy', 'chunk_7_1.npy', 'chunk_7_9_label.npy', 'chunk_12_3.npy', 'chunk_6_13_label.npy', 'chunk_5_7.npy', 'chunk_14_9.npy', 'chunk_2_10.npy', 'chunk_10_11_label.npy', 'chunk_9_5.npy', 'chunk_7_15_label.npy', 'chunk_13_11.npy', 'chunk_9_0_label.npy', 'chunk_16_6.npy', 'chunk_10_3_label.npy', 'chunk_9_10_label.npy', 'chunk_14_5_label.npy', 'chunk_15_5_label.npy', 'chunk_11_9.npy', 'chunk_13_3.npy', 'chunk_13_8.npy', 'chunk_13_9.npy', 'chunk_6_14_label.npy', 'chunk_4_12.npy', 'chunk_10_12_label.npy', 'chunk_9_17.npy', 'chunk_17_9_label.npy', 'chunk_12_10_label.npy', 'chunk_9_1.npy', 'chunk_15_11.npy', 'chunk_6_16_label.npy', 'chunk_1_8_label.npy', 'chunk_15_12_label.npy', 'chunk_3_8.npy', 'chunk_9_15.npy', 'chunk_9_7.npy', 'chunk_7_8_label.npy', 'chunk_7_11.npy', 'chunk_15_9_label.npy', 'chunk_11_4_label.npy', 'chunk_9_5_label.npy', 'chunk_1_9_label.npy', 'chunk_14_4.npy', 'chunk_12_4.npy', 'chunk_2_8_label.npy', 'chunk_15_12.npy', 'chunk_9_3_label.npy', 'chunk_5_3_label.npy', 'chunk_5_13_label.npy', 'chunk_3_13.npy', 'chunk_7_3_label.npy', 'chunk_6_4_label.npy', 'chunk_0_9.npy', 'chunk_14_11_label.npy', 'chunk_14_11.npy', 'chunk_8_0.npy', 'chunk_6_6_label.npy']\n"
     ]
    }
   ],
   "source": [
    "for i in scene_ids:\n",
    "    scene_chunk_dir = os.path.join(stack_dir, i)\n",
    "    print(os.listdir(scene_chunk_dir))"
   ]
  }
 ],
 "metadata": {
  "kernelspec": {
   "display_name": "Python 3",
   "language": "python",
   "name": "python3"
  },
  "language_info": {
   "codemirror_mode": {
    "name": "ipython",
    "version": 3
   },
   "file_extension": ".py",
   "mimetype": "text/x-python",
   "name": "python",
   "nbconvert_exporter": "python",
   "pygments_lexer": "ipython3",
   "version": "3.7.4"
  }
 },
 "nbformat": 4,
 "nbformat_minor": 2
}
