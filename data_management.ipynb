{
 "cells": [
  {
   "cell_type": "markdown",
   "metadata": {},
   "source": [
    "# This notebook has all of the steps needed to configure your workspace and download imagery for processing and analysis"
   ]
  },
  {
   "cell_type": "markdown",
   "metadata": {},
   "source": [
    "## import all necessary packages"
   ]
  },
  {
   "cell_type": "code",
   "execution_count": 1,
   "metadata": {},
   "outputs": [],
   "source": [
    "import os\n",
    "import numpy as np\n",
    "from src.landsatUtil.landsat.downloader import Downloader\n",
    "from src.utils.data_directory_manager import DataDirectoryManager\n",
    "from src.utils.image_correction import LandsatTOACorrecter\n",
    "from src.models.antarctic_rock_outcrop_os import OutcropLabeler"
   ]
  },
  {
   "cell_type": "markdown",
   "metadata": {},
   "source": [
    "## Configure project directory"
   ]
  },
  {
   "cell_type": "code",
   "execution_count": 2,
   "metadata": {
    "collapsed": true
   },
   "outputs": [
    {
     "name": "stderr",
     "output_type": "stream",
     "text": [
      "2019-11-14 13:10:43,654 - scene_downloader_log\n",
      "INFO\n",
      "Data directory created at /home/dsa/DSA/qc/raw\n",
      "\n",
      "2019-11-14 13:10:43,657 - scene_downloader_log\n",
      "INFO\n",
      "Data directory created at /home/dsa/DSA/qc/corrected\n",
      "\n",
      "2019-11-14 13:10:43,660 - scene_downloader_log\n",
      "INFO\n",
      "Data directory created at /home/dsa/DSA/qc/labels\n",
      "\n",
      "2019-11-14 13:10:43,663 - scene_downloader_log\n",
      "INFO\n",
      "Data directory created at /home/dsa/DSA/qc/downloads\n",
      "\n",
      "2019-11-14 13:10:43,665 - scene_downloader_log\n",
      "INFO\n",
      "Data directory created at /home/dsa/DSA/qc/coastline\n",
      "\n"
     ]
    }
   ],
   "source": [
    "project_directory = \"/home/dsa/DSA/qc\"\n",
    "dm = DataDirectoryManager(project_directory)"
   ]
  },
  {
   "cell_type": "markdown",
   "metadata": {},
   "source": [
    "## Load list of scene ids to be manipulated\n",
    "### This cell should create a list of scene ids from any source file that can be used to download scenes, correct them, label them, etc"
   ]
  },
  {
   "cell_type": "code",
   "execution_count": 5,
   "metadata": {},
   "outputs": [],
   "source": [
    "# This particular example loads a list from a file where each line is a single scene id\n",
    "scene_file_path = os.path.join(dm.project_dir, \"qc_ids.txt\")\n",
    "with open(scene_file_path, 'r') as scene_file:\n",
    "    scene_ids = [i[:-1] for i in scene_file]"
   ]
  },
  {
   "cell_type": "markdown",
   "metadata": {},
   "source": [
    "## Download scenes by id\n",
    "### specific bands can be downloaded by introducing a second parameter\n",
    "### It is strongly recommended that you specify bands because the provided scenes come as .tifs instead of all bands provided as a .tar.bz file that must be extracted (this extraction takes a very long time)\n",
    "\n",
    "Landsat band information can be found here: https://www.usgs.gov/land-resources/nli/landsat/landsat-8?qt-science_support_page_related_con=0#qt-science_support_page_related_con"
   ]
  },
  {
   "cell_type": "code",
   "execution_count": 8,
   "metadata": {
    "collapsed": true
   },
   "outputs": [
    {
     "name": "stdout",
     "output_type": "stream",
     "text": [
      "\u001b[34m===> \u001b[0mSource: AWS S3\n",
      "\u001b[34m===> \u001b[0mDownloading: LC80311222014338LGN00_B1.TIF\n"
     ]
    },
    {
     "name": "stderr",
     "output_type": "stream",
     "text": [
      "     0%     12.6 KiB      12.6 KiB/s            1:12:59 ETA    \n",
      "     2%      1.1 MiB     772.7 KiB/s            0:01:09 ETA    \n",
      "    15%      8.5 MiB       4.2 MiB/s            0:00:10 ETA    \n",
      "    30%     16.3 MiB       6.5 MiB/s            0:00:05 ETA    \n",
      "    44%     23.9 MiB       7.9 MiB/s            0:00:03 ETA    \n",
      "    56%     30.5 MiB       8.7 MiB/s            0:00:02 ETA    \n",
      "    71%     38.7 MiB       9.6 MiB/s            0:00:01 ETA    \n",
      "    86%     46.6 MiB      10.3 MiB/s            0:00:00 ETA    \n",
      "\n"
     ]
    },
    {
     "name": "stdout",
     "output_type": "stream",
     "text": [
      "     \u001b[32mstored at /home/dsa/DSA/qc/full_scene_ref_bands/LC80311222014338LGN00\u001b[0m\n",
      "\u001b[34m===> \u001b[0mDownloading: LC80311222014338LGN00_BQA.TIF\n"
     ]
    },
    {
     "name": "stderr",
     "output_type": "stream",
     "text": [
      "     0%     12.6 KiB      12.6 KiB/s            0:03:57 ETA    \n",
      "    38%      1.1 MiB     762.9 KiB/s            0:00:02 ETA    \n",
      "\n"
     ]
    },
    {
     "name": "stdout",
     "output_type": "stream",
     "text": [
      "     \u001b[32mstored at /home/dsa/DSA/qc/full_scene_ref_bands/LC80311222014338LGN00\u001b[0m\n",
      "\u001b[34m===> \u001b[0mDownloading: LC80311222014338LGN00_MTL.txt\n"
     ]
    },
    {
     "name": "stderr",
     "output_type": "stream",
     "text": [
      "   100%      7.5 KiB       7.5 KiB/s            0:00:00 ETA    \n",
      "\n"
     ]
    },
    {
     "name": "stdout",
     "output_type": "stream",
     "text": [
      "     \u001b[32mstored at /home/dsa/DSA/qc/full_scene_ref_bands/LC80311222014338LGN00\u001b[0m\n",
      "\u001b[34m===> \u001b[0mSource: AWS S3\n",
      "\u001b[34m===> \u001b[0mDownloading: LC82091172014001LGN00_B1.TIF\n"
     ]
    },
    {
     "name": "stderr",
     "output_type": "stream",
     "text": [
      "     0%     12.6 KiB      12.6 KiB/s            1:10:09 ETA    \n",
      "     2%      1.2 MiB     786.5 KiB/s            0:01:05 ETA    \n",
      "    16%      8.6 MiB       4.2 MiB/s            0:00:10 ETA    \n",
      "    29%     15.2 MiB       6.0 MiB/s            0:00:06 ETA    \n",
      "    43%     22.3 MiB       7.4 MiB/s            0:00:03 ETA    \n",
      "    47%     24.6 MiB       5.6 MiB/s            0:00:04 ETA    \n",
      "    84%     43.9 MiB       8.9 MiB/s            0:00:00 ETA    \n",
      "    99%     51.5 MiB       9.5 MiB/s            0:00:00 ETA    \n",
      "\n"
     ]
    },
    {
     "name": "stdout",
     "output_type": "stream",
     "text": [
      "     \u001b[32mstored at /home/dsa/DSA/qc/full_scene_ref_bands/LC82091172014001LGN00\u001b[0m\n",
      "\u001b[34m===> \u001b[0mDownloading: LC82091172014001LGN00_BQA.TIF\n"
     ]
    },
    {
     "name": "stderr",
     "output_type": "stream",
     "text": [
      "     0%      7.0 KiB       7.0 KiB/s            0:06:53 ETA    \n",
      "    40%      1.2 MiB     788.4 KiB/s            0:00:02 ETA    \n",
      "\n"
     ]
    },
    {
     "name": "stdout",
     "output_type": "stream",
     "text": [
      "     \u001b[32mstored at /home/dsa/DSA/qc/full_scene_ref_bands/LC82091172014001LGN00\u001b[0m\n",
      "\u001b[34m===> \u001b[0mDownloading: LC82091172014001LGN00_MTL.txt\n"
     ]
    },
    {
     "name": "stderr",
     "output_type": "stream",
     "text": [
      "     0%      0 Bytes       0 Bytes/s                n/a ETA    \n",
      "\n"
     ]
    },
    {
     "name": "stdout",
     "output_type": "stream",
     "text": [
      "     \u001b[32mstored at /home/dsa/DSA/qc/full_scene_ref_bands/LC82091172014001LGN00\u001b[0m\n",
      "\u001b[34m===> \u001b[0mDownloading: LC82091172014001LGN00_BQA.TIF\n",
      "     \u001b[32mLC82091172014001LGN00_BQA.TIF already exists on your system\u001b[0m\n",
      "     \u001b[32mstored at /home/dsa/DSA/qc/full_scene_ref_bands/LC82091172014001LGN00\u001b[0m\n",
      "\u001b[34m===> \u001b[0mSource: AWS S3\n",
      "\u001b[34m===> \u001b[0mDownloading: LC82201072015017LGN00_B1.TIF\n"
     ]
    },
    {
     "name": "stderr",
     "output_type": "stream",
     "text": [
      "     0%     12.6 KiB      12.6 KiB/s            1:22:42 ETA    \n",
      "     1%    774.7 KiB     508.0 KiB/s            0:02:01 ETA    \n",
      "     6%      3.9 MiB       1.9 MiB/s            0:00:29 ETA    \n",
      "    13%      8.2 MiB       3.2 MiB/s            0:00:16 ETA    \n",
      "    22%     13.5 MiB       4.4 MiB/s            0:00:10 ETA    \n",
      "    32%     19.8 MiB       5.6 MiB/s            0:00:07 ETA    \n",
      "    42%     26.1 MiB       6.5 MiB/s            0:00:05 ETA    \n",
      "    52%     32.1 MiB       7.0 MiB/s            0:00:04 ETA    \n",
      "    62%     37.9 MiB       7.4 MiB/s            0:00:03 ETA    \n",
      "    72%     44.2 MiB       7.9 MiB/s            0:00:02 ETA    \n",
      "    85%     52.1 MiB       8.5 MiB/s            0:00:01 ETA    \n",
      "    96%     59.1 MiB       9.0 MiB/s            0:00:00 ETA    \n",
      "\n"
     ]
    },
    {
     "name": "stdout",
     "output_type": "stream",
     "text": [
      "     \u001b[32mstored at /home/dsa/DSA/qc/full_scene_ref_bands/LC82201072015017LGN00\u001b[0m\n",
      "\u001b[34m===> \u001b[0mDownloading: LC82201072015017LGN00_BQA.TIF\n"
     ]
    },
    {
     "name": "stderr",
     "output_type": "stream",
     "text": [
      "     0%     11.2 KiB      11.2 KiB/s            0:08:17 ETA    \n",
      "    19%      1.1 MiB     735.5 KiB/s            0:00:06 ETA    \n",
      "\n",
      "   100%      7.5 KiB       7.5 KiB/s            0:00:00 ETA    \n"
     ]
    },
    {
     "name": "stdout",
     "output_type": "stream",
     "text": [
      "     \u001b[32mstored at /home/dsa/DSA/qc/full_scene_ref_bands/LC82201072015017LGN00\u001b[0m\n",
      "\u001b[34m===> \u001b[0mDownloading: LC82201072015017LGN00_MTL.txt\n"
     ]
    },
    {
     "name": "stderr",
     "output_type": "stream",
     "text": [
      "\n"
     ]
    },
    {
     "name": "stdout",
     "output_type": "stream",
     "text": [
      "     \u001b[32mstored at /home/dsa/DSA/qc/full_scene_ref_bands/LC82201072015017LGN00\u001b[0m\n",
      "\u001b[34m===> \u001b[0mDownloading: LC82201072015017LGN00_BQA.TIF\n",
      "     \u001b[32mLC82201072015017LGN00_BQA.TIF already exists on your system\u001b[0m\n",
      "     \u001b[32mstored at /home/dsa/DSA/qc/full_scene_ref_bands/LC82201072015017LGN00\u001b[0m\n",
      "\u001b[34m===> \u001b[0mDownloading: LC82201072015017LGN00_BQA.TIF\n",
      "     \u001b[32mLC82201072015017LGN00_BQA.TIF already exists on your system\u001b[0m\n",
      "     \u001b[32mstored at /home/dsa/DSA/qc/full_scene_ref_bands/LC82201072015017LGN00\u001b[0m\n",
      "\u001b[34m===> \u001b[0mSource: AWS S3\n",
      "\u001b[34m===> \u001b[0mDownloading: LC81431082013352LGN00_B1.TIF\n"
     ]
    },
    {
     "name": "stderr",
     "output_type": "stream",
     "text": [
      "     0%     11.2 KiB      11.2 KiB/s            1:25:41 ETA    \n",
      "     2%      1.1 MiB     773.2 KiB/s            0:01:12 ETA    \n",
      "    10%      6.0 MiB       3.0 MiB/s            0:00:16 ETA    \n",
      "    21%     12.3 MiB       4.9 MiB/s            0:00:09 ETA    \n",
      "    30%     17.3 MiB       5.7 MiB/s            0:00:06 ETA    \n",
      "    43%     24.6 MiB       6.9 MiB/s            0:00:04 ETA    \n",
      "    55%     31.1 MiB       7.6 MiB/s            0:00:03 ETA    \n",
      "    67%     37.8 MiB       8.3 MiB/s            0:00:02 ETA    \n",
      "    81%     45.6 MiB       9.0 MiB/s            0:00:01 ETA    \n",
      "    94%     53.1 MiB       9.5 MiB/s            0:00:00 ETA    \n",
      "\n"
     ]
    },
    {
     "name": "stdout",
     "output_type": "stream",
     "text": [
      "     \u001b[32mstored at /home/dsa/DSA/qc/full_scene_ref_bands/LC81431082013352LGN00\u001b[0m\n",
      "\u001b[34m===> \u001b[0mDownloading: LC81431082013352LGN00_BQA.TIF\n"
     ]
    },
    {
     "name": "stderr",
     "output_type": "stream",
     "text": [
      "     0%      2.8 KiB       2.8 KiB/s            0:19:15 ETA    \n",
      "    38%      1.2 MiB     832.1 KiB/s            0:00:02 ETA    \n",
      "\n",
      "   100%      7.5 KiB       7.5 KiB/s            0:00:00 ETA    \n",
      "\n"
     ]
    },
    {
     "name": "stdout",
     "output_type": "stream",
     "text": [
      "     \u001b[32mstored at /home/dsa/DSA/qc/full_scene_ref_bands/LC81431082013352LGN00\u001b[0m\n",
      "\u001b[34m===> \u001b[0mDownloading: LC81431082013352LGN00_MTL.txt\n",
      "     \u001b[32mstored at /home/dsa/DSA/qc/full_scene_ref_bands/LC81431082013352LGN00\u001b[0m\n",
      "\u001b[34m===> \u001b[0mDownloading: LC81431082013352LGN00_BQA.TIF\n",
      "     \u001b[32mLC81431082013352LGN00_BQA.TIF already exists on your system\u001b[0m\n",
      "     \u001b[32mstored at /home/dsa/DSA/qc/full_scene_ref_bands/LC81431082013352LGN00\u001b[0m\n",
      "\u001b[34m===> \u001b[0mDownloading: LC81431082013352LGN00_BQA.TIF\n",
      "     \u001b[32mLC81431082013352LGN00_BQA.TIF already exists on your system\u001b[0m\n",
      "     \u001b[32mstored at /home/dsa/DSA/qc/full_scene_ref_bands/LC81431082013352LGN00\u001b[0m\n",
      "\u001b[34m===> \u001b[0mDownloading: LC81431082013352LGN00_BQA.TIF\n",
      "     \u001b[32mLC81431082013352LGN00_BQA.TIF already exists on your system\u001b[0m\n",
      "     \u001b[32mstored at /home/dsa/DSA/qc/full_scene_ref_bands/LC81431082013352LGN00\u001b[0m\n",
      "\u001b[34m===> \u001b[0mSource: AWS S3\n",
      "\u001b[34m===> \u001b[0mDownloading: LC82071182013336LGN00_B1.TIF\n"
     ]
    },
    {
     "name": "stderr",
     "output_type": "stream",
     "text": [
      "     0%     12.6 KiB      12.6 KiB/s            1:08:38 ETA    \n",
      "     0%    325.8 KiB     211.7 KiB/s            0:04:03 ETA    \n",
      "     1%    749.6 KiB     367.3 KiB/s            0:02:19 ETA    \n",
      "     2%      1.2 MiB     466.8 KiB/s            0:01:48 ETA    \n",
      "     3%      1.7 MiB     569.4 KiB/s            0:01:27 ETA    \n",
      "     4%      2.3 MiB     647.8 KiB/s            0:01:16 ETA    \n",
      "     5%      2.9 MiB     717.7 KiB/s            0:01:08 ETA    \n",
      "     6%      3.5 MiB     769.2 KiB/s            0:01:02 ETA    \n",
      "     8%      4.1 MiB     815.4 KiB/s            0:00:58 ETA    \n",
      "     9%      4.7 MiB     854.0 KiB/s            0:00:55 ETA    \n",
      "    10%      5.3 MiB     888.1 KiB/s            0:00:52 ETA    \n",
      "    11%      6.0 MiB     915.0 KiB/s            0:00:49 ETA    \n",
      "    13%      6.7 MiB     952.2 KiB/s            0:00:47 ETA    \n",
      "    14%      7.4 MiB     984.1 KiB/s            0:00:44 ETA    \n",
      "    16%      8.2 MiB    1019.5 KiB/s            0:00:42 ETA    \n",
      "    17%      9.0 MiB       1.0 MiB/s            0:00:40 ETA    \n",
      "    19%      9.8 MiB       1.1 MiB/s            0:00:38 ETA    \n",
      "    20%     10.6 MiB       1.1 MiB/s            0:00:36 ETA    \n",
      "    22%     11.5 MiB       1.1 MiB/s            0:00:34 ETA    \n",
      "    24%     12.6 MiB       1.2 MiB/s            0:00:32 ETA    \n",
      "    26%     13.5 MiB       1.2 MiB/s            0:00:31 ETA    \n",
      "    28%     14.6 MiB       1.2 MiB/s            0:00:29 ETA    \n",
      "    31%     15.9 MiB       1.3 MiB/s            0:00:27 ETA    \n",
      "    34%     17.3 MiB       1.3 MiB/s            0:00:25 ETA    \n",
      "    36%     18.7 MiB       1.4 MiB/s            0:00:23 ETA    \n",
      "    40%     20.7 MiB       1.5 MiB/s            0:00:20 ETA    \n",
      "    45%     23.2 MiB       1.6 MiB/s            0:00:17 ETA    \n",
      "    50%     25.4 MiB       1.7 MiB/s            0:00:15 ETA    \n",
      "    55%     28.0 MiB       1.8 MiB/s            0:00:12 ETA    \n",
      "    62%     31.6 MiB       2.0 MiB/s            0:00:09 ETA    \n",
      "    69%     35.1 MiB       2.1 MiB/s            0:00:07 ETA    \n",
      "    78%     39.9 MiB       2.3 MiB/s            0:00:04 ETA    \n",
      "    89%     45.5 MiB       2.6 MiB/s            0:00:01 ETA    \n",
      "    97%     49.4 MiB       2.7 MiB/s            0:00:00 ETA    \n",
      "\n"
     ]
    },
    {
     "name": "stdout",
     "output_type": "stream",
     "text": [
      "     \u001b[32mstored at /home/dsa/DSA/qc/full_scene_ref_bands/LC82071182013336LGN00\u001b[0m\n",
      "\u001b[34m===> \u001b[0mDownloading: LC82071182013336LGN00_BQA.TIF\n"
     ]
    },
    {
     "name": "stderr",
     "output_type": "stream",
     "text": [
      "     0%     12.6 KiB      12.6 KiB/s            0:02:51 ETA    \n",
      "    22%    481.1 KiB     318.6 KiB/s            0:00:05 ETA    \n",
      "    57%      1.2 MiB     614.1 KiB/s            0:00:01 ETA    \n",
      "\n",
      "   100%      7.5 KiB       7.5 KiB/s            0:00:00 ETA    \n",
      "\n"
     ]
    },
    {
     "name": "stdout",
     "output_type": "stream",
     "text": [
      "     \u001b[32mstored at /home/dsa/DSA/qc/full_scene_ref_bands/LC82071182013336LGN00\u001b[0m\n",
      "\u001b[34m===> \u001b[0mDownloading: LC82071182013336LGN00_MTL.txt\n",
      "     \u001b[32mstored at /home/dsa/DSA/qc/full_scene_ref_bands/LC82071182013336LGN00\u001b[0m\n",
      "\u001b[34m===> \u001b[0mDownloading: LC82071182013336LGN00_BQA.TIF\n",
      "     \u001b[32mLC82071182013336LGN00_BQA.TIF already exists on your system\u001b[0m\n",
      "     \u001b[32mstored at /home/dsa/DSA/qc/full_scene_ref_bands/LC82071182013336LGN00\u001b[0m\n",
      "\u001b[34m===> \u001b[0mDownloading: LC82071182013336LGN00_BQA.TIF\n",
      "     \u001b[32mLC82071182013336LGN00_BQA.TIF already exists on your system\u001b[0m\n",
      "     \u001b[32mstored at /home/dsa/DSA/qc/full_scene_ref_bands/LC82071182013336LGN00\u001b[0m\n",
      "\u001b[34m===> \u001b[0mDownloading: LC82071182013336LGN00_BQA.TIF\n",
      "     \u001b[32mLC82071182013336LGN00_BQA.TIF already exists on your system\u001b[0m\n",
      "     \u001b[32mstored at /home/dsa/DSA/qc/full_scene_ref_bands/LC82071182013336LGN00\u001b[0m\n",
      "\u001b[34m===> \u001b[0mDownloading: LC82071182013336LGN00_BQA.TIF\n",
      "     \u001b[32mLC82071182013336LGN00_BQA.TIF already exists on your system\u001b[0m\n",
      "     \u001b[32mstored at /home/dsa/DSA/qc/full_scene_ref_bands/LC82071182013336LGN00\u001b[0m\n",
      "\u001b[34m===> \u001b[0mSource: AWS S3\n",
      "\u001b[34m===> \u001b[0mDownloading: LC80631112014002LGN00_B1.TIF\n"
     ]
    },
    {
     "name": "stderr",
     "output_type": "stream",
     "text": [
      "     0%     12.6 KiB      12.6 KiB/s            1:26:20 ETA    \n",
      "     1%      1.1 MiB     754.4 KiB/s            0:01:24 ETA    \n",
      "    13%      8.3 MiB       4.1 MiB/s            0:00:13 ETA    \n",
      "    22%     14.4 MiB       5.7 MiB/s            0:00:08 ETA    \n",
      "    32%     21.0 MiB       6.9 MiB/s            0:00:06 ETA    \n",
      "    45%     28.8 MiB       8.2 MiB/s            0:00:04 ETA    \n",
      "    56%     36.2 MiB       9.0 MiB/s            0:00:03 ETA    \n",
      "    66%     42.7 MiB       9.4 MiB/s            0:00:02 ETA    \n",
      "    78%     49.8 MiB       9.9 MiB/s            0:00:01 ETA    \n",
      "    87%     55.6 MiB       9.7 MiB/s            0:00:00 ETA    \n",
      "\n"
     ]
    },
    {
     "name": "stdout",
     "output_type": "stream",
     "text": [
      "     \u001b[32mstored at /home/dsa/DSA/qc/full_scene_ref_bands/LC80631112014002LGN00\u001b[0m\n",
      "\u001b[34m===> \u001b[0mDownloading: LC80631112014002LGN00_BQA.TIF\n"
     ]
    },
    {
     "name": "stderr",
     "output_type": "stream",
     "text": [
      "     0%     12.6 KiB      12.6 KiB/s            0:06:50 ETA    \n",
      "    22%      1.1 MiB     765.8 KiB/s            0:00:05 ETA    \n",
      "\n"
     ]
    },
    {
     "name": "stdout",
     "output_type": "stream",
     "text": [
      "     \u001b[32mstored at /home/dsa/DSA/qc/full_scene_ref_bands/LC80631112014002LGN00\u001b[0m\n",
      "\u001b[34m===> \u001b[0mDownloading: LC80631112014002LGN00_MTL.txt\n"
     ]
    },
    {
     "name": "stderr",
     "output_type": "stream",
     "text": [
      "   100%      7.5 KiB       7.5 KiB/s            0:00:00 ETA    \n",
      "\n"
     ]
    },
    {
     "name": "stdout",
     "output_type": "stream",
     "text": [
      "     \u001b[32mstored at /home/dsa/DSA/qc/full_scene_ref_bands/LC80631112014002LGN00\u001b[0m\n",
      "\u001b[34m===> \u001b[0mDownloading: LC80631112014002LGN00_BQA.TIF\n",
      "     \u001b[32mLC80631112014002LGN00_BQA.TIF already exists on your system\u001b[0m\n",
      "     \u001b[32mstored at /home/dsa/DSA/qc/full_scene_ref_bands/LC80631112014002LGN00\u001b[0m\n",
      "\u001b[34m===> \u001b[0mDownloading: LC80631112014002LGN00_BQA.TIF\n",
      "     \u001b[32mLC80631112014002LGN00_BQA.TIF already exists on your system\u001b[0m\n",
      "     \u001b[32mstored at /home/dsa/DSA/qc/full_scene_ref_bands/LC80631112014002LGN00\u001b[0m\n",
      "\u001b[34m===> \u001b[0mDownloading: LC80631112014002LGN00_BQA.TIF\n",
      "     \u001b[32mLC80631112014002LGN00_BQA.TIF already exists on your system\u001b[0m\n",
      "     \u001b[32mstored at /home/dsa/DSA/qc/full_scene_ref_bands/LC80631112014002LGN00\u001b[0m\n",
      "\u001b[34m===> \u001b[0mDownloading: LC80631112014002LGN00_BQA.TIF\n",
      "     \u001b[32mLC80631112014002LGN00_BQA.TIF already exists on your system\u001b[0m\n",
      "     \u001b[32mstored at /home/dsa/DSA/qc/full_scene_ref_bands/LC80631112014002LGN00\u001b[0m\n",
      "\u001b[34m===> \u001b[0mDownloading: LC80631112014002LGN00_BQA.TIF\n",
      "     \u001b[32mLC80631112014002LGN00_BQA.TIF already exists on your system\u001b[0m\n",
      "     \u001b[32mstored at /home/dsa/DSA/qc/full_scene_ref_bands/LC80631112014002LGN00\u001b[0m\n",
      "\u001b[34m===> \u001b[0mSource: AWS S3\n",
      "\u001b[34m===> \u001b[0mDownloading: LC82131132013362LGN00_B1.TIF\n"
     ]
    },
    {
     "name": "stderr",
     "output_type": "stream",
     "text": [
      "     0%     12.6 KiB      12.6 KiB/s            1:08:44 ETA    \n",
      "     2%      1.1 MiB     755.4 KiB/s            0:01:07 ETA    \n",
      "    11%      5.8 MiB       2.8 MiB/s            0:00:15 ETA    \n",
      "    23%     12.2 MiB       4.8 MiB/s            0:00:08 ETA    \n",
      "    34%     17.4 MiB       5.7 MiB/s            0:00:05 ETA    \n",
      "    46%     23.5 MiB       6.6 MiB/s            0:00:04 ETA    \n",
      "    57%     29.3 MiB       7.2 MiB/s            0:00:02 ETA    \n",
      "    69%     35.4 MiB       7.8 MiB/s            0:00:01 ETA    \n",
      "    82%     42.0 MiB       8.3 MiB/s            0:00:01 ETA    \n",
      "    97%     49.4 MiB       8.9 MiB/s            0:00:00 ETA    \n",
      "\n"
     ]
    },
    {
     "name": "stdout",
     "output_type": "stream",
     "text": [
      "     \u001b[32mstored at /home/dsa/DSA/qc/full_scene_ref_bands/LC82131132013362LGN00\u001b[0m\n",
      "\u001b[34m===> \u001b[0mDownloading: LC82131132013362LGN00_BQA.TIF\n"
     ]
    },
    {
     "name": "stderr",
     "output_type": "stream",
     "text": [
      "     0%     12.6 KiB      12.6 KiB/s            0:01:46 ETA    \n",
      "    84%      1.1 MiB     743.6 KiB/s            0:00:00 ETA    \n",
      "\n",
      "   100%      7.5 KiB       7.5 KiB/s            0:00:00 ETA    \n",
      "\n"
     ]
    },
    {
     "name": "stdout",
     "output_type": "stream",
     "text": [
      "     \u001b[32mstored at /home/dsa/DSA/qc/full_scene_ref_bands/LC82131132013362LGN00\u001b[0m\n",
      "\u001b[34m===> \u001b[0mDownloading: LC82131132013362LGN00_MTL.txt\n",
      "     \u001b[32mstored at /home/dsa/DSA/qc/full_scene_ref_bands/LC82131132013362LGN00\u001b[0m\n",
      "\u001b[34m===> \u001b[0mDownloading: LC82131132013362LGN00_BQA.TIF\n",
      "     \u001b[32mLC82131132013362LGN00_BQA.TIF already exists on your system\u001b[0m\n",
      "     \u001b[32mstored at /home/dsa/DSA/qc/full_scene_ref_bands/LC82131132013362LGN00\u001b[0m\n",
      "\u001b[34m===> \u001b[0mDownloading: LC82131132013362LGN00_BQA.TIF\n",
      "     \u001b[32mLC82131132013362LGN00_BQA.TIF already exists on your system\u001b[0m\n",
      "     \u001b[32mstored at /home/dsa/DSA/qc/full_scene_ref_bands/LC82131132013362LGN00\u001b[0m\n",
      "\u001b[34m===> \u001b[0mDownloading: LC82131132013362LGN00_BQA.TIF\n",
      "     \u001b[32mLC82131132013362LGN00_BQA.TIF already exists on your system\u001b[0m\n",
      "     \u001b[32mstored at /home/dsa/DSA/qc/full_scene_ref_bands/LC82131132013362LGN00\u001b[0m\n",
      "\u001b[34m===> \u001b[0mDownloading: LC82131132013362LGN00_BQA.TIF\n",
      "     \u001b[32mLC82131132013362LGN00_BQA.TIF already exists on your system\u001b[0m\n",
      "     \u001b[32mstored at /home/dsa/DSA/qc/full_scene_ref_bands/LC82131132013362LGN00\u001b[0m\n",
      "\u001b[34m===> \u001b[0mDownloading: LC82131132013362LGN00_BQA.TIF\n",
      "     \u001b[32mLC82131132013362LGN00_BQA.TIF already exists on your system\u001b[0m\n",
      "     \u001b[32mstored at /home/dsa/DSA/qc/full_scene_ref_bands/LC82131132013362LGN00\u001b[0m\n",
      "\u001b[34m===> \u001b[0mDownloading: LC82131132013362LGN00_BQA.TIF\n",
      "     \u001b[32mLC82131132013362LGN00_BQA.TIF already exists on your system\u001b[0m\n",
      "     \u001b[32mstored at /home/dsa/DSA/qc/full_scene_ref_bands/LC82131132013362LGN00\u001b[0m\n",
      "\u001b[34m===> \u001b[0mSource: AWS S3\n",
      "\u001b[34m===> \u001b[0mDownloading: LC81041072013303LGN00_B1.TIF\n"
     ]
    },
    {
     "name": "stderr",
     "output_type": "stream",
     "text": [
      "     0%     11.2 KiB      11.2 KiB/s            1:25:22 ETA    \n",
      "     0%    458.9 KiB     302.6 KiB/s            0:03:07 ETA    \n",
      "     2%      1.2 MiB     619.2 KiB/s            0:01:30 ETA    \n",
      "     3%      2.0 MiB     828.0 KiB/s            0:01:06 ETA    \n",
      "     5%      3.0 MiB    1007.7 KiB/s            0:00:53 ETA    \n",
      "     6%      3.8 MiB       1.0 MiB/s            0:00:50 ETA    \n",
      "     7%      4.5 MiB       1.1 MiB/s            0:00:48 ETA    \n",
      "     9%      5.3 MiB       1.1 MiB/s            0:00:44 ETA    \n",
      "    10%      6.0 MiB       1.1 MiB/s            0:00:44 ETA    \n",
      "    11%      6.7 MiB       1.2 MiB/s            0:00:42 ETA    \n",
      "    13%      7.6 MiB       1.2 MiB/s            0:00:39 ETA    \n",
      "    15%      8.5 MiB       1.2 MiB/s            0:00:37 ETA    \n",
      "    16%      9.5 MiB       1.3 MiB/s            0:00:35 ETA    \n",
      "    18%     10.5 MiB       1.3 MiB/s            0:00:33 ETA    \n",
      "    20%     11.6 MiB       1.4 MiB/s            0:00:32 ETA    \n",
      "    22%     12.7 MiB       1.4 MiB/s            0:00:30 ETA    \n",
      "    24%     13.9 MiB       1.5 MiB/s            0:00:28 ETA    \n",
      "    26%     15.1 MiB       1.5 MiB/s            0:00:26 ETA    \n",
      "    29%     16.4 MiB       1.6 MiB/s            0:00:25 ETA    \n",
      "    31%     17.8 MiB       1.6 MiB/s            0:00:23 ETA    \n",
      "    34%     19.4 MiB       1.7 MiB/s            0:00:21 ETA    \n",
      "    37%     21.2 MiB       1.8 MiB/s            0:00:19 ETA    \n",
      "    41%     23.3 MiB       1.9 MiB/s            0:00:17 ETA    \n",
      "    45%     25.4 MiB       2.0 MiB/s            0:00:15 ETA    \n",
      "    49%     27.5 MiB       2.0 MiB/s            0:00:13 ETA    \n",
      "    53%     30.2 MiB       2.2 MiB/s            0:00:11 ETA    \n",
      "    57%     32.5 MiB       2.2 MiB/s            0:00:10 ETA    \n",
      "    62%     34.7 MiB       2.3 MiB/s            0:00:09 ETA    \n",
      "    66%     37.1 MiB       2.4 MiB/s            0:00:07 ETA    \n",
      "    70%     39.7 MiB       2.5 MiB/s            0:00:06 ETA    \n",
      "    75%     42.3 MiB       2.6 MiB/s            0:00:05 ETA    \n",
      "    80%     45.3 MiB       2.7 MiB/s            0:00:04 ETA    \n",
      "    85%     48.0 MiB       2.7 MiB/s            0:00:02 ETA    \n",
      "    90%     50.9 MiB       2.8 MiB/s            0:00:01 ETA    \n",
      "    95%     53.4 MiB       2.9 MiB/s            0:00:00 ETA    \n",
      "\n"
     ]
    },
    {
     "name": "stdout",
     "output_type": "stream",
     "text": [
      "     \u001b[32mstored at /home/dsa/DSA/qc/full_scene_ref_bands/LC81041072013303LGN00\u001b[0m\n",
      "\u001b[34m===> \u001b[0mDownloading: LC81041072013303LGN00_BQA.TIF\n"
     ]
    },
    {
     "name": "stderr",
     "output_type": "stream",
     "text": [
      "     0%     12.6 KiB      12.6 KiB/s            0:03:40 ETA    \n",
      "    41%      1.1 MiB     770.5 KiB/s            0:00:02 ETA    \n",
      "\n",
      "   100%      7.5 KiB       7.5 KiB/s            0:00:00 ETA    \n",
      "\n"
     ]
    },
    {
     "name": "stdout",
     "output_type": "stream",
     "text": [
      "     \u001b[32mstored at /home/dsa/DSA/qc/full_scene_ref_bands/LC81041072013303LGN00\u001b[0m\n",
      "\u001b[34m===> \u001b[0mDownloading: LC81041072013303LGN00_MTL.txt\n",
      "     \u001b[32mstored at /home/dsa/DSA/qc/full_scene_ref_bands/LC81041072013303LGN00\u001b[0m\n",
      "\u001b[34m===> \u001b[0mDownloading: LC81041072013303LGN00_BQA.TIF\n",
      "     \u001b[32mLC81041072013303LGN00_BQA.TIF already exists on your system\u001b[0m\n",
      "     \u001b[32mstored at /home/dsa/DSA/qc/full_scene_ref_bands/LC81041072013303LGN00\u001b[0m\n",
      "\u001b[34m===> \u001b[0mDownloading: LC81041072013303LGN00_BQA.TIF\n",
      "     \u001b[32mLC81041072013303LGN00_BQA.TIF already exists on your system\u001b[0m\n",
      "     \u001b[32mstored at /home/dsa/DSA/qc/full_scene_ref_bands/LC81041072013303LGN00\u001b[0m\n",
      "\u001b[34m===> \u001b[0mDownloading: LC81041072013303LGN00_BQA.TIF\n",
      "     \u001b[32mLC81041072013303LGN00_BQA.TIF already exists on your system\u001b[0m\n",
      "     \u001b[32mstored at /home/dsa/DSA/qc/full_scene_ref_bands/LC81041072013303LGN00\u001b[0m\n",
      "\u001b[34m===> \u001b[0mDownloading: LC81041072013303LGN00_BQA.TIF\n",
      "     \u001b[32mLC81041072013303LGN00_BQA.TIF already exists on your system\u001b[0m\n",
      "     \u001b[32mstored at /home/dsa/DSA/qc/full_scene_ref_bands/LC81041072013303LGN00\u001b[0m\n",
      "\u001b[34m===> \u001b[0mDownloading: LC81041072013303LGN00_BQA.TIF\n",
      "     \u001b[32mLC81041072013303LGN00_BQA.TIF already exists on your system\u001b[0m\n",
      "     \u001b[32mstored at /home/dsa/DSA/qc/full_scene_ref_bands/LC81041072013303LGN00\u001b[0m\n",
      "\u001b[34m===> \u001b[0mDownloading: LC81041072013303LGN00_BQA.TIF\n",
      "     \u001b[32mLC81041072013303LGN00_BQA.TIF already exists on your system\u001b[0m\n",
      "     \u001b[32mstored at /home/dsa/DSA/qc/full_scene_ref_bands/LC81041072013303LGN00\u001b[0m\n",
      "\u001b[34m===> \u001b[0mDownloading: LC81041072013303LGN00_BQA.TIF\n",
      "     \u001b[32mLC81041072013303LGN00_BQA.TIF already exists on your system\u001b[0m\n",
      "     \u001b[32mstored at /home/dsa/DSA/qc/full_scene_ref_bands/LC81041072013303LGN00\u001b[0m\n",
      "\u001b[34m===> \u001b[0mSource: AWS S3\n",
      "\u001b[34m===> \u001b[0mDownloading: LC81681112014002LGN00_B1.TIF\n"
     ]
    },
    {
     "name": "stderr",
     "output_type": "stream",
     "text": [
      "     0%     11.2 KiB      11.2 KiB/s            1:23:03 ETA    \n",
      "     2%      1.1 MiB     731.5 KiB/s            0:01:14 ETA    \n",
      "     9%      4.9 MiB       2.4 MiB/s            0:00:20 ETA    \n",
      "    18%      9.9 MiB       3.9 MiB/s            0:00:11 ETA    \n",
      "    27%     15.1 MiB       4.9 MiB/s            0:00:07 ETA    \n",
      "    40%     22.0 MiB       6.2 MiB/s            0:00:05 ETA    \n",
      "    50%     27.6 MiB       6.8 MiB/s            0:00:03 ETA    \n",
      "    61%     33.7 MiB       7.4 MiB/s            0:00:02 ETA    \n",
      "    74%     40.7 MiB       8.1 MiB/s            0:00:01 ETA    \n",
      "    86%     47.0 MiB       8.5 MiB/s            0:00:00 ETA    \n",
      "    98%     53.5 MiB       8.8 MiB/s            0:00:00 ETA    \n",
      "\n"
     ]
    },
    {
     "name": "stdout",
     "output_type": "stream",
     "text": [
      "     \u001b[32mstored at /home/dsa/DSA/qc/full_scene_ref_bands/LC81681112014002LGN00\u001b[0m\n",
      "\u001b[34m===> \u001b[0mDownloading: LC81681112014002LGN00_BQA.TIF\n"
     ]
    },
    {
     "name": "stderr",
     "output_type": "stream",
     "text": [
      "     0%     12.6 KiB      12.6 KiB/s            0:03:44 ETA    \n",
      "    40%      1.1 MiB     733.9 KiB/s            0:00:02 ETA    \n",
      "\n"
     ]
    },
    {
     "name": "stdout",
     "output_type": "stream",
     "text": [
      "     \u001b[32mstored at /home/dsa/DSA/qc/full_scene_ref_bands/LC81681112014002LGN00\u001b[0m\n",
      "\u001b[34m===> \u001b[0mDownloading: LC81681112014002LGN00_MTL.txt\n"
     ]
    },
    {
     "name": "stderr",
     "output_type": "stream",
     "text": [
      "   100%      7.4 KiB       7.4 KiB/s            0:00:00 ETA    \n",
      "\n"
     ]
    },
    {
     "name": "stdout",
     "output_type": "stream",
     "text": [
      "     \u001b[32mstored at /home/dsa/DSA/qc/full_scene_ref_bands/LC81681112014002LGN00\u001b[0m\n",
      "\u001b[34m===> \u001b[0mDownloading: LC81681112014002LGN00_BQA.TIF\n",
      "     \u001b[32mLC81681112014002LGN00_BQA.TIF already exists on your system\u001b[0m\n",
      "     \u001b[32mstored at /home/dsa/DSA/qc/full_scene_ref_bands/LC81681112014002LGN00\u001b[0m\n",
      "\u001b[34m===> \u001b[0mDownloading: LC81681112014002LGN00_BQA.TIF\n",
      "     \u001b[32mLC81681112014002LGN00_BQA.TIF already exists on your system\u001b[0m\n",
      "     \u001b[32mstored at /home/dsa/DSA/qc/full_scene_ref_bands/LC81681112014002LGN00\u001b[0m\n",
      "\u001b[34m===> \u001b[0mDownloading: LC81681112014002LGN00_BQA.TIF\n",
      "     \u001b[32mLC81681112014002LGN00_BQA.TIF already exists on your system\u001b[0m\n",
      "     \u001b[32mstored at /home/dsa/DSA/qc/full_scene_ref_bands/LC81681112014002LGN00\u001b[0m\n",
      "\u001b[34m===> \u001b[0mDownloading: LC81681112014002LGN00_BQA.TIF\n",
      "     \u001b[32mLC81681112014002LGN00_BQA.TIF already exists on your system\u001b[0m\n",
      "     \u001b[32mstored at /home/dsa/DSA/qc/full_scene_ref_bands/LC81681112014002LGN00\u001b[0m\n",
      "\u001b[34m===> \u001b[0mDownloading: LC81681112014002LGN00_BQA.TIF\n",
      "     \u001b[32mLC81681112014002LGN00_BQA.TIF already exists on your system\u001b[0m\n",
      "     \u001b[32mstored at /home/dsa/DSA/qc/full_scene_ref_bands/LC81681112014002LGN00\u001b[0m\n",
      "\u001b[34m===> \u001b[0mDownloading: LC81681112014002LGN00_BQA.TIF\n",
      "     \u001b[32mLC81681112014002LGN00_BQA.TIF already exists on your system\u001b[0m\n",
      "     \u001b[32mstored at /home/dsa/DSA/qc/full_scene_ref_bands/LC81681112014002LGN00\u001b[0m\n",
      "\u001b[34m===> \u001b[0mDownloading: LC81681112014002LGN00_BQA.TIF\n",
      "     \u001b[32mLC81681112014002LGN00_BQA.TIF already exists on your system\u001b[0m\n",
      "     \u001b[32mstored at /home/dsa/DSA/qc/full_scene_ref_bands/LC81681112014002LGN00\u001b[0m\n",
      "\u001b[34m===> \u001b[0mDownloading: LC81681112014002LGN00_BQA.TIF\n",
      "     \u001b[32mLC81681112014002LGN00_BQA.TIF already exists on your system\u001b[0m\n",
      "     \u001b[32mstored at /home/dsa/DSA/qc/full_scene_ref_bands/LC81681112014002LGN00\u001b[0m\n"
     ]
    },
    {
     "data": {
      "text/plain": [
       "['/home/dsa/DSA/qc/full_scene_ref_bands/LC80311222014338LGN00',\n",
       " '/home/dsa/DSA/qc/full_scene_ref_bands/LC82091172014001LGN00',\n",
       " '/home/dsa/DSA/qc/full_scene_ref_bands/LC82201072015017LGN00',\n",
       " '/home/dsa/DSA/qc/full_scene_ref_bands/LC81431082013352LGN00',\n",
       " '/home/dsa/DSA/qc/full_scene_ref_bands/LC82071182013336LGN00',\n",
       " '/home/dsa/DSA/qc/full_scene_ref_bands/LC80631112014002LGN00',\n",
       " '/home/dsa/DSA/qc/full_scene_ref_bands/LC82131132013362LGN00',\n",
       " '/home/dsa/DSA/qc/full_scene_ref_bands/LC81041072013303LGN00',\n",
       " '/home/dsa/DSA/qc/full_scene_ref_bands/LC81681112014002LGN00']"
      ]
     },
     "execution_count": 8,
     "metadata": {},
     "output_type": "execute_result"
    }
   ],
   "source": [
    "bands = [1]\n",
    "# specify dm.download_dir if not providing a band parameter\n",
    "downloader = Downloader(download_dir = os.path.join(dm.project_dir, \"full_scene_ref_bands\")) \n",
    "downloader.download(scene_ids, bands=bands)"
   ]
  },
  {
   "cell_type": "markdown",
   "metadata": {},
   "source": [
    "# Process downloaded scenes\n",
    "## only run this cell if downloading .tar.bz files into dm.download_dir"
   ]
  },
  {
   "cell_type": "code",
   "execution_count": null,
   "metadata": {},
   "outputs": [],
   "source": [
    "dm.untar_scenes(scene_ids)"
   ]
  },
  {
   "cell_type": "markdown",
   "metadata": {},
   "source": [
    "# Correct scenes"
   ]
  },
  {
   "cell_type": "code",
   "execution_count": 9,
   "metadata": {
    "collapsed": true
   },
   "outputs": [
    {
     "ename": "TypeError",
     "evalue": "__init__() missing 1 required positional argument: 'scene_path'",
     "output_type": "error",
     "traceback": [
      "\u001b[0;31m---------------------------------------------------------------------------\u001b[0m",
      "\u001b[0;31mTypeError\u001b[0m                                 Traceback (most recent call last)",
      "\u001b[0;32m<ipython-input-9-90c83b34556f>\u001b[0m in \u001b[0;36m<module>\u001b[0;34m\u001b[0m\n\u001b[0;32m----> 1\u001b[0;31m \u001b[0;32mfor\u001b[0m \u001b[0mi\u001b[0m \u001b[0;32min\u001b[0m \u001b[0mscene_ids\u001b[0m\u001b[0;34m:\u001b[0m\u001b[0mcorrector\u001b[0m \u001b[0;34m=\u001b[0m \u001b[0mLandsatTOACorrecter\u001b[0m\u001b[0;34m(\u001b[0m\u001b[0;34m)\u001b[0m\u001b[0;34m\u001b[0m\u001b[0;34m\u001b[0m\u001b[0m\n\u001b[0m",
      "\u001b[0;31mTypeError\u001b[0m: __init__() missing 1 required positional argument: 'scene_path'"
     ]
    }
   ],
   "source": [
    "for i in scene_ids:\n",
    "    corrector = LandsatTOACorrecter(i)\n",
    "    corrector.correct_toa_brightness_tem(dm.corrected_image_dir)\n",
    "    corrector.correct_toa_reflectance(dm.corrected_image_dir)"
   ]
  },
  {
   "cell_type": "markdown",
   "metadata": {},
   "source": [
    "# Rasterize vector labels"
   ]
  },
  {
   "cell_type": "markdown",
   "metadata": {},
   "source": [
    "# stack bands and split into chunks along with labels"
   ]
  },
  {
   "cell_type": "code",
   "execution_count": null,
   "metadata": {},
   "outputs": [],
   "source": []
  }
 ],
 "metadata": {
  "kernelspec": {
   "display_name": "Python 3",
   "language": "python",
   "name": "python3"
  },
  "language_info": {
   "codemirror_mode": {
    "name": "ipython",
    "version": 3
   },
   "file_extension": ".py",
   "mimetype": "text/x-python",
   "name": "python",
   "nbconvert_exporter": "python",
   "pygments_lexer": "ipython3",
   "version": "3.6.8"
  }
 },
 "nbformat": 4,
 "nbformat_minor": 2
}
