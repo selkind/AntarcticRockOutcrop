{
 "cells": [
  {
   "cell_type": "markdown",
   "metadata": {},
   "source": [
    "# Configuring the environment"
   ]
  },
  {
   "cell_type": "markdown",
   "metadata": {},
   "source": [
    "## Install python library dependencies"
   ]
  },
  {
   "cell_type": "code",
   "execution_count": 32,
   "metadata": {},
   "outputs": [
    {
     "name": "stdout",
     "output_type": "stream",
     "text": [
      "Collecting affine==2.3.0\n",
      "  Downloading https://files.pythonhosted.org/packages/ac/a6/1a39a1ede71210e3ddaf623982b06ecfc5c5c03741ae659073159184cd3e/affine-2.3.0-py2.py3-none-any.whl\n",
      "Collecting attrs==19.2.0\n",
      "\u001b[?25l  Downloading https://files.pythonhosted.org/packages/6b/e8/2ecaf86b128a34e225807f03b22664302937ab826bd3b7eccab6754d29ea/attrs-19.2.0-py2.py3-none-any.whl (40kB)\n",
      "\u001b[K     |████████████████████████████████| 40kB 2.7MB/s eta 0:00:011\n",
      "\u001b[?25hRequirement already satisfied: backcall==0.1.0 in /home/divyanshu_g25/venv/lib/python3.6/site-packages (from -r requirements.txt (line 3)) (0.1.0)\n",
      "Requirement already satisfied: bleach==3.1.0 in /home/divyanshu_g25/venv/lib/python3.6/site-packages (from -r requirements.txt (line 4)) (3.1.0)\n",
      "Requirement already satisfied: certifi==2019.9.11 in /home/divyanshu_g25/venv/lib/python3.6/site-packages (from -r requirements.txt (line 5)) (2019.9.11)\n",
      "Requirement already satisfied: Click==7.0 in /home/divyanshu_g25/venv/lib/python3.6/site-packages (from -r requirements.txt (line 6)) (7.0)\n",
      "Collecting click-plugins==1.1.1\n",
      "  Downloading https://files.pythonhosted.org/packages/e9/da/824b92d9942f4e472702488857914bdd50f73021efea15b4cad9aca8ecef/click_plugins-1.1.1-py2.py3-none-any.whl\n",
      "Collecting cligj==0.5.0\n",
      "  Downloading https://files.pythonhosted.org/packages/e4/be/30a58b4b0733850280d01f8bd132591b4668ed5c7046761098d665ac2174/cligj-0.5.0-py3-none-any.whl\n",
      "Collecting cycler==0.10.0\n",
      "  Downloading https://files.pythonhosted.org/packages/f7/d2/e07d3ebb2bd7af696440ce7e754c59dd546ffe1bbe732c8ab68b9c834e61/cycler-0.10.0-py2.py3-none-any.whl\n",
      "Requirement already satisfied: decorator==4.4.0 in /home/divyanshu_g25/venv/lib/python3.6/site-packages (from -r requirements.txt (line 10)) (4.4.0)\n",
      "Requirement already satisfied: defusedxml==0.6.0 in /home/divyanshu_g25/venv/lib/python3.6/site-packages (from -r requirements.txt (line 11)) (0.6.0)\n",
      "Collecting descartes==1.1.0\n",
      "  Downloading https://files.pythonhosted.org/packages/e5/b6/1ed2eb03989ae574584664985367ba70cd9cf8b32ee8cad0e8aaeac819f3/descartes-1.1.0-py3-none-any.whl\n",
      "Requirement already satisfied: entrypoints==0.3 in /home/divyanshu_g25/venv/lib/python3.6/site-packages (from -r requirements.txt (line 13)) (0.3)\n",
      "Collecting Fiona==1.8.8\n",
      "\u001b[?25l  Downloading https://files.pythonhosted.org/packages/1e/cf/a1f22d87223cb4f48beecf4de6eb59e5261a7d0d073489bbe7cfe6514ae3/Fiona-1.8.8-1-cp36-cp36m-manylinux1_x86_64.whl (11.9MB)\n",
      "\u001b[K     |████████████████████████████████| 11.9MB 8.2MB/s eta 0:00:01\n",
      "\u001b[?25hRequirement already satisfied: homura==0.1.5 in /home/divyanshu_g25/venv/lib/python3.6/site-packages (from -r requirements.txt (line 15)) (0.1.5)\n",
      "Requirement already satisfied: humanize==0.5.1 in /home/divyanshu_g25/venv/lib/python3.6/site-packages (from -r requirements.txt (line 16)) (0.5.1)\n",
      "Requirement already satisfied: importlib-metadata==0.23 in /home/divyanshu_g25/venv/lib/python3.6/site-packages (from -r requirements.txt (line 17)) (0.23)\n",
      "Collecting ipykernel==5.1.2\n",
      "\u001b[?25l  Downloading https://files.pythonhosted.org/packages/d4/16/43f51f65a8a08addf04f909a0938b06ba1ee1708b398a9282474531bd893/ipykernel-5.1.2-py3-none-any.whl (116kB)\n",
      "\u001b[K     |████████████████████████████████| 122kB 60.4MB/s eta 0:00:01\n",
      "\u001b[?25hRequirement already satisfied: ipython==7.8.0 in /home/divyanshu_g25/venv/lib/python3.6/site-packages (from -r requirements.txt (line 19)) (7.8.0)\n",
      "Requirement already satisfied: ipython-genutils==0.2.0 in /home/divyanshu_g25/venv/lib/python3.6/site-packages (from -r requirements.txt (line 20)) (0.2.0)\n",
      "Requirement already satisfied: ipywidgets==7.5.1 in /home/divyanshu_g25/venv/lib/python3.6/site-packages (from -r requirements.txt (line 21)) (7.5.1)\n",
      "Requirement already satisfied: jedi==0.15.1 in /home/divyanshu_g25/venv/lib/python3.6/site-packages (from -r requirements.txt (line 22)) (0.15.1)\n",
      "Requirement already satisfied: Jinja2==2.10.3 in /home/divyanshu_g25/venv/lib/python3.6/site-packages (from -r requirements.txt (line 23)) (2.10.3)\n",
      "Collecting jsonschema==3.1.1\n",
      "  Using cached https://files.pythonhosted.org/packages/ce/6c/888d7c3c1fce3974c88a01a6bc553528c99d3586e098eee23e8383dd11c3/jsonschema-3.1.1-py2.py3-none-any.whl\n",
      "Requirement already satisfied: jupyter==1.0.0 in /home/divyanshu_g25/venv/lib/python3.6/site-packages (from -r requirements.txt (line 25)) (1.0.0)\n",
      "Requirement already satisfied: jupyter-client==5.3.4 in /home/divyanshu_g25/venv/lib/python3.6/site-packages (from -r requirements.txt (line 26)) (5.3.4)\n",
      "Requirement already satisfied: jupyter-console==6.0.0 in /home/divyanshu_g25/venv/lib/python3.6/site-packages (from -r requirements.txt (line 27)) (6.0.0)\n",
      "Requirement already satisfied: jupyter-core==4.6.0 in /home/divyanshu_g25/venv/lib/python3.6/site-packages (from -r requirements.txt (line 28)) (4.6.0)\n",
      "Collecting kiwisolver==1.1.0\n",
      "\u001b[?25l  Downloading https://files.pythonhosted.org/packages/f8/a1/5742b56282449b1c0968197f63eae486eca2c35dcd334bab75ad524e0de1/kiwisolver-1.1.0-cp36-cp36m-manylinux1_x86_64.whl (90kB)\n",
      "\u001b[K     |████████████████████████████████| 92kB 11.9MB/s eta 0:00:01\n",
      "\u001b[?25hRequirement already satisfied: MarkupSafe==1.1.1 in /home/divyanshu_g25/venv/lib/python3.6/site-packages (from -r requirements.txt (line 30)) (1.1.1)\n",
      "Collecting matplotlib==3.1.1\n",
      "\u001b[?25l  Downloading https://files.pythonhosted.org/packages/57/4f/dd381ecf6c6ab9bcdaa8ea912e866dedc6e696756156d8ecc087e20817e2/matplotlib-3.1.1-cp36-cp36m-manylinux1_x86_64.whl (13.1MB)\n",
      "\u001b[K     |████████████████████████████████| 13.1MB 52.2MB/s eta 0:00:01\n",
      "\u001b[?25hRequirement already satisfied: mistune==0.8.4 in /home/divyanshu_g25/venv/lib/python3.6/site-packages (from -r requirements.txt (line 32)) (0.8.4)\n",
      "Requirement already satisfied: more-itertools==7.2.0 in /home/divyanshu_g25/venv/lib/python3.6/site-packages (from -r requirements.txt (line 33)) (7.2.0)\n",
      "Collecting munch==2.3.2\n",
      "  Downloading https://files.pythonhosted.org/packages/68/f4/260ec98ea840757a0da09e0ed8135333d59b8dfebe9752a365b04857660a/munch-2.3.2.tar.gz\n",
      "Requirement already satisfied: nbconvert==5.6.0 in /home/divyanshu_g25/venv/lib/python3.6/site-packages (from -r requirements.txt (line 35)) (5.6.0)\n",
      "Requirement already satisfied: nbformat==4.4.0 in /home/divyanshu_g25/venv/lib/python3.6/site-packages (from -r requirements.txt (line 36)) (4.4.0)\n",
      "Requirement already satisfied: notebook==6.0.1 in /home/divyanshu_g25/venv/lib/python3.6/site-packages (from -r requirements.txt (line 37)) (6.0.1)\n",
      "Collecting numpy==1.17.2\n",
      "\u001b[?25l  Downloading https://files.pythonhosted.org/packages/e5/e6/c3fdc53aed9fa19d6ff3abf97dfad768ae3afce1b7431f7500000816bda5/numpy-1.17.2-cp36-cp36m-manylinux1_x86_64.whl (20.4MB)\n",
      "\u001b[K     |████████████████████████████████| 20.4MB 48.7MB/s eta 0:00:01\n",
      "\u001b[?25hCollecting pandas==0.25.1\n",
      "\u001b[?25l  Downloading https://files.pythonhosted.org/packages/73/9b/52e228545d14f14bb2a1622e225f38463c8726645165e1cb7dde95bfe6d4/pandas-0.25.1-cp36-cp36m-manylinux1_x86_64.whl (10.5MB)\n",
      "\u001b[K     |████████████████████████████████| 10.5MB 49.3MB/s eta 0:00:01\n",
      "\u001b[?25hRequirement already satisfied: pandocfilters==1.4.2 in /home/divyanshu_g25/venv/lib/python3.6/site-packages (from -r requirements.txt (line 40)) (1.4.2)\n",
      "Requirement already satisfied: parso==0.5.1 in /home/divyanshu_g25/venv/lib/python3.6/site-packages (from -r requirements.txt (line 41)) (0.5.1)\n",
      "Requirement already satisfied: pexpect==4.7.0 in /home/divyanshu_g25/venv/lib/python3.6/site-packages (from -r requirements.txt (line 42)) (4.7.0)\n",
      "Requirement already satisfied: pickleshare==0.7.5 in /home/divyanshu_g25/venv/lib/python3.6/site-packages (from -r requirements.txt (line 43)) (0.7.5)\n",
      "Requirement already satisfied: prometheus-client==0.7.1 in /home/divyanshu_g25/venv/lib/python3.6/site-packages (from -r requirements.txt (line 44)) (0.7.1)\n",
      "Requirement already satisfied: prompt-toolkit==2.0.10 in /home/divyanshu_g25/venv/lib/python3.6/site-packages (from -r requirements.txt (line 45)) (2.0.10)\n",
      "Requirement already satisfied: ptyprocess==0.6.0 in /home/divyanshu_g25/venv/lib/python3.6/site-packages (from -r requirements.txt (line 46)) (0.6.0)\n",
      "Requirement already satisfied: pycurl==7.43.0.3 in /home/divyanshu_g25/venv/lib/python3.6/site-packages (from -r requirements.txt (line 47)) (7.43.0.3)\n",
      "Requirement already satisfied: Pygments==2.4.2 in /home/divyanshu_g25/venv/lib/python3.6/site-packages (from -r requirements.txt (line 48)) (2.4.2)\n",
      "Requirement already satisfied: pyparsing==2.4.2 in /home/divyanshu_g25/venv/lib/python3.6/site-packages (from -r requirements.txt (line 49)) (2.4.2)\n",
      "Requirement already satisfied: pyrsistent==0.15.4 in /home/divyanshu_g25/venv/lib/python3.6/site-packages (from -r requirements.txt (line 50)) (0.15.4)\n"
     ]
    },
    {
     "name": "stdout",
     "output_type": "stream",
     "text": [
      "Collecting pyshp==2.1.0\n",
      "\u001b[?25l  Downloading https://files.pythonhosted.org/packages/27/16/3bf15aa864fb77845fab8007eda22c2bd67bd6c1fd13496df452c8c43621/pyshp-2.1.0.tar.gz (215kB)\n",
      "\u001b[K     |████████████████████████████████| 225kB 61.4MB/s eta 0:00:01\n",
      "\u001b[?25hRequirement already satisfied: python-dateutil==2.8.0 in /home/divyanshu_g25/venv/lib/python3.6/site-packages (from -r requirements.txt (line 52)) (2.8.0)\n",
      "Requirement already satisfied: pytz==2019.3 in /home/divyanshu_g25/venv/lib/python3.6/site-packages (from -r requirements.txt (line 53)) (2019.3)\n",
      "Requirement already satisfied: pyzmq==18.1.0 in /home/divyanshu_g25/venv/lib/python3.6/site-packages (from -r requirements.txt (line 54)) (18.1.0)\n",
      "Requirement already satisfied: qtconsole==4.5.5 in /home/divyanshu_g25/venv/lib/python3.6/site-packages (from -r requirements.txt (line 55)) (4.5.5)\n",
      "Collecting rasterio==1.1.0\n",
      "\u001b[?25l  Downloading https://files.pythonhosted.org/packages/5d/b5/a526d414acc152b2152731c28dbff6700e43d730d08b9ebc17a77c8fd939/rasterio-1.1.0-cp36-cp36m-manylinux1_x86_64.whl (15.1MB)\n",
      "\u001b[K     |████████████████████████████████| 15.1MB 49.5MB/s eta 0:00:01\n",
      "\u001b[?25hCollecting scipy==1.3.1\n",
      "\u001b[?25l  Downloading https://files.pythonhosted.org/packages/29/50/a552a5aff252ae915f522e44642bb49a7b7b31677f9580cfd11bcc869976/scipy-1.3.1-cp36-cp36m-manylinux1_x86_64.whl (25.2MB)\n",
      "\u001b[K     |████████████████████████████████| 25.2MB 44.0MB/s eta 0:00:01\n",
      "\u001b[?25hCollecting seaborn==0.9.0\n",
      "\u001b[?25l  Downloading https://files.pythonhosted.org/packages/a8/76/220ba4420459d9c4c9c9587c6ce607bf56c25b3d3d2de62056efe482dadc/seaborn-0.9.0-py3-none-any.whl (208kB)\n",
      "\u001b[K     |████████████████████████████████| 215kB 57.5MB/s eta 0:00:01\n",
      "\u001b[?25hRequirement already satisfied: Send2Trash==1.5.0 in /home/divyanshu_g25/venv/lib/python3.6/site-packages (from -r requirements.txt (line 59)) (1.5.0)\n",
      "Requirement already satisfied: six==1.12.0 in /home/divyanshu_g25/venv/lib/python3.6/site-packages (from -r requirements.txt (line 60)) (1.12.0)\n",
      "Collecting snuggs==1.4.7\n",
      "  Downloading https://files.pythonhosted.org/packages/cc/0e/d27d6e806d6c0d1a2cfdc5d1f088e42339a0a54a09c3343f7f81ec8947ea/snuggs-1.4.7-py3-none-any.whl\n",
      "Requirement already satisfied: terminado==0.8.2 in /home/divyanshu_g25/venv/lib/python3.6/site-packages (from -r requirements.txt (line 62)) (0.8.2)\n",
      "Requirement already satisfied: testpath==0.4.2 in /home/divyanshu_g25/venv/lib/python3.6/site-packages (from -r requirements.txt (line 63)) (0.4.2)\n",
      "Requirement already satisfied: tornado==6.0.3 in /home/divyanshu_g25/venv/lib/python3.6/site-packages (from -r requirements.txt (line 64)) (6.0.3)\n",
      "Requirement already satisfied: traitlets==4.3.3 in /home/divyanshu_g25/venv/lib/python3.6/site-packages (from -r requirements.txt (line 65)) (4.3.3)\n",
      "Requirement already satisfied: wcwidth==0.1.7 in /home/divyanshu_g25/venv/lib/python3.6/site-packages (from -r requirements.txt (line 66)) (0.1.7)\n",
      "Requirement already satisfied: webencodings==0.5.1 in /home/divyanshu_g25/venv/lib/python3.6/site-packages (from -r requirements.txt (line 67)) (0.5.1)\n",
      "Requirement already satisfied: widgetsnbextension==3.5.1 in /home/divyanshu_g25/venv/lib/python3.6/site-packages (from -r requirements.txt (line 68)) (3.5.1)\n",
      "Requirement already satisfied: zipp==0.6.0 in /home/divyanshu_g25/venv/lib/python3.6/site-packages (from -r requirements.txt (line 69)) (0.6.0)\n",
      "Requirement already satisfied: setuptools>=18.5 in /home/divyanshu_g25/venv/lib/python3.6/site-packages (from ipython==7.8.0->-r requirements.txt (line 19)) (41.4.0)\n",
      "Building wheels for collected packages: munch, pyshp\n",
      "  Building wheel for munch (setup.py) ... \u001b[?25ldone\n",
      "\u001b[?25h  Created wheel for munch: filename=munch-2.3.2-py2.py3-none-any.whl size=6614 sha256=9c9414e6ba1e520bdc38c6c74cd4c6479b2e65b7e10e90afc4c28858137b1d1a\n",
      "  Stored in directory: /home/divyanshu_g25/.cache/pip/wheels/db/bf/bc/06a3e1bfe0ab27d2e720ceb3cff3159398d92644c0cec2c125\n",
      "  Building wheel for pyshp (setup.py) ... \u001b[?25ldone\n",
      "\u001b[?25h  Created wheel for pyshp: filename=pyshp-2.1.0-cp36-none-any.whl size=32607 sha256=13b4264752155e9849e8a1986ac12a53fc4f3627ce02edde950fae60d62627f8\n",
      "  Stored in directory: /home/divyanshu_g25/.cache/pip/wheels/a6/0c/de/321b5192ad416b328975a2f0385f72c64db4656501eba7cc1a\n",
      "Successfully built munch pyshp\n",
      "Installing collected packages: affine, attrs, click-plugins, cligj, cycler, kiwisolver, numpy, matplotlib, descartes, munch, Fiona, ipykernel, jsonschema, pandas, pyshp, snuggs, rasterio, scipy, seaborn\n",
      "  Found existing installation: attrs 19.3.0\n",
      "    Uninstalling attrs-19.3.0:\n",
      "      Successfully uninstalled attrs-19.3.0\n",
      "  Found existing installation: ipykernel 5.1.3\n",
      "    Uninstalling ipykernel-5.1.3:\n",
      "      Successfully uninstalled ipykernel-5.1.3\n",
      "  Found existing installation: jsonschema 2.5.1\n",
      "    Uninstalling jsonschema-2.5.1:\n",
      "      Successfully uninstalled jsonschema-2.5.1\n",
      "Successfully installed Fiona-1.8.8 affine-2.3.0 attrs-19.2.0 click-plugins-1.1.1 cligj-0.5.0 cycler-0.10.0 descartes-1.1.0 ipykernel-5.1.2 jsonschema-3.1.1 kiwisolver-1.1.0 matplotlib-3.1.1 munch-2.3.2 numpy-1.17.2 pandas-0.25.1 pyshp-2.1.0 rasterio-1.1.0 scipy-1.3.1 seaborn-0.9.0 snuggs-1.4.7\n"
     ]
    }
   ],
   "source": [
    "# !pip install requests\n",
    "# !pip install usgs\n",
    "# !pip install geocoder\n",
    "# !sudo apt install libcurl4-openssl-dev libssl-dev\n",
    "# !pip install homura\n",
    "# !pip install termcolor\n",
    "!pip install -r requirements.txt"
   ]
  },
  {
   "cell_type": "markdown",
   "metadata": {},
   "source": [
    "## - Download scene id list\n",
    "## - Download coastline shapefile\n",
    "## - Configure data directory"
   ]
  },
  {
   "cell_type": "code",
   "execution_count": 15,
   "metadata": {},
   "outputs": [
    {
     "name": "stdout",
     "output_type": "stream",
     "text": [
      "2019-10-24 13:59:35,892 - scene_downloader_log\r\n",
      "INFO\r\n",
      "supplement file already exists at path: /home/dsa/Documents/project/AntarcticRockOutcrop/data/supplement.zip\r\n",
      "\r\n",
      "2019-10-24 13:59:35,893 - scene_downloader_log\r\n",
      "INFO\r\n",
      "Scene ID file already extracted at /home/dsa/Documents/project/AntarcticRockOutcrop/data/burton_johnson_scene_ids.txt\r\n",
      "\r\n",
      "2019-10-24 13:59:35,893 - scene_downloader_log\r\n",
      "INFO\r\n",
      "Coast zip file already downloaded from ADD. Located at /home/dsa/Documents/project/AntarcticRockOutcrop/data/coastline.zip\r\n",
      "\r\n",
      "2019-10-24 13:59:35,893 - scene_downloader_log\r\n",
      "INFO\r\n",
      "Coast shapefile already exists at /home/dsa/Documents/project/AntarcticRockOutcrop/data/coastline/Coastline_high_res_polygon_v7.1.shp\r\n",
      "\r\n"
     ]
    }
   ],
   "source": [
    "!python src/init.py"
   ]
  },
  {
   "cell_type": "markdown",
   "metadata": {},
   "source": [
    "## Example showing scene downloading logic"
   ]
  },
  {
   "cell_type": "code",
   "execution_count": null,
   "metadata": {},
   "outputs": [],
   "source": [
    "!python src/download_example.py"
   ]
  }
 ],
 "metadata": {
  "kernelspec": {
   "display_name": "Python 3",
   "language": "python",
   "name": "python3"
  },
  "language_info": {
   "codemirror_mode": {
    "name": "ipython",
    "version": 3
   },
   "file_extension": ".py",
   "mimetype": "text/x-python",
   "name": "python",
   "nbconvert_exporter": "python",
   "pygments_lexer": "ipython3",
   "version": "3.7.4"
  }
 },
 "nbformat": 4,
 "nbformat_minor": 2
}
